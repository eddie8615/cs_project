{
 "cells": [
  {
   "cell_type": "code",
   "execution_count": 1,
   "metadata": {
    "collapsed": true
   },
   "outputs": [],
   "source": [
    "import pandas as pd\n",
    "import matplotlib.pyplot as plt\n",
    "import numpy as np\n",
    "from statsmodels.graphics.tsaplots import plot_acf, plot_pacf\n",
    "from scipy.stats import jarque_bera\n",
    "import arch\n",
    "from sklearn.metrics import mean_squared_error,mean_absolute_percentage_error, r2_score, mean_absolute_error\n",
    "from arch import arch_model\n",
    "import data_reader as dr\n",
    "import metrics as mt"
   ]
  },
  {
   "cell_type": "code",
   "execution_count": 2,
   "outputs": [
    {
     "name": "stdout",
     "output_type": "stream",
     "text": [
      "<class 'pandas.core.frame.DataFrame'>\n",
      "RangeIndex: 2433 entries, 0 to 2432\n",
      "Data columns (total 6 columns):\n",
      " #   Column               Non-Null Count  Dtype  \n",
      "---  ------               --------------  -----  \n",
      " 0   Date                 2433 non-null   object \n",
      " 1   Daily_trading_range  2433 non-null   float64\n",
      " 2   Log_Volume_change    2433 non-null   float64\n",
      " 3   Daily_return         2433 non-null   float64\n",
      " 4   Daily_log_return     2433 non-null   float64\n",
      " 5   Index                2433 non-null   float64\n",
      "dtypes: float64(5), object(1)\n",
      "memory usage: 114.2+ KB\n",
      "<class 'pandas.core.frame.DataFrame'>\n",
      "Int64Index: 2411 entries, 0 to 2410\n",
      "Data columns (total 1 columns):\n",
      " #   Column  Non-Null Count  Dtype  \n",
      "---  ------  --------------  -----  \n",
      " 0   Target  2411 non-null   float64\n",
      "dtypes: float64(1)\n",
      "memory usage: 37.7 KB\n"
     ]
    }
   ],
   "source": [
    "data, target = dr.read_data(window=22)\n",
    "data.info()\n",
    "target.info()"
   ],
   "metadata": {
    "collapsed": false,
    "pycharm": {
     "name": "#%%\n"
    }
   }
  },
  {
   "cell_type": "code",
   "execution_count": 3,
   "outputs": [
    {
     "data": {
      "text/plain": "        Target\n2406  0.181086\n2407  0.180976\n2408  0.180241\n2409  0.177022\n2410  0.177207",
      "text/html": "<div>\n<style scoped>\n    .dataframe tbody tr th:only-of-type {\n        vertical-align: middle;\n    }\n\n    .dataframe tbody tr th {\n        vertical-align: top;\n    }\n\n    .dataframe thead th {\n        text-align: right;\n    }\n</style>\n<table border=\"1\" class=\"dataframe\">\n  <thead>\n    <tr style=\"text-align: right;\">\n      <th></th>\n      <th>Target</th>\n    </tr>\n  </thead>\n  <tbody>\n    <tr>\n      <th>2406</th>\n      <td>0.181086</td>\n    </tr>\n    <tr>\n      <th>2407</th>\n      <td>0.180976</td>\n    </tr>\n    <tr>\n      <th>2408</th>\n      <td>0.180241</td>\n    </tr>\n    <tr>\n      <th>2409</th>\n      <td>0.177022</td>\n    </tr>\n    <tr>\n      <th>2410</th>\n      <td>0.177207</td>\n    </tr>\n  </tbody>\n</table>\n</div>"
     },
     "execution_count": 3,
     "metadata": {},
     "output_type": "execute_result"
    }
   ],
   "source": [
    "target.tail()"
   ],
   "metadata": {
    "collapsed": false,
    "pycharm": {
     "name": "#%%\n"
    }
   }
  },
  {
   "cell_type": "code",
   "execution_count": 4,
   "outputs": [],
   "source": [
    "def evaluate(predict, target, title):\n",
    "    # rev_pred = scaler.inverse_transform(predict)\n",
    "    # rev_true = scaler.inverse_transform(target)\n",
    "    print('--------'+title+'----------')\n",
    "    testScore = mean_squared_error(predict, target)\n",
    "    print(\"test Score: {score} MSE\".format(score=testScore))\n",
    "    root_testScore = mean_squared_error(y_pred=predict, y_true=target, squared=False)\n",
    "    print(\"test Score: {score} RMSE\".format(score=root_testScore))\n",
    "    mape = mean_absolute_percentage_error(y_pred=predict, y_true=target)\n",
    "    print(\"test Score: {score} MAPE\".format(score=mape))\n",
    "    mae = mean_absolute_error(y_pred=predict, y_true=target)\n",
    "    print(\"test Score: {score} MAE\".format(score=mae))\n",
    "    # r2_test = r2_score(y_true=target, y_pred=predict)\n",
    "    # print(\"test Score: {score} R2 score\".format(score=r2_test))\n"
   ],
   "metadata": {
    "collapsed": false,
    "pycharm": {
     "name": "#%%\n"
    }
   }
  },
  {
   "cell_type": "code",
   "execution_count": 5,
   "outputs": [
    {
     "name": "stdout",
     "output_type": "stream",
     "text": [
      "Split index:  1946\n",
      "Observations:  2433\n"
     ]
    }
   ],
   "source": [
    "split_index = int(len(data)*0.8)\n",
    "print('Split index: ', split_index)\n",
    "print('Observations: ', len(data))"
   ],
   "metadata": {
    "collapsed": false,
    "pycharm": {
     "name": "#%%\n"
    }
   }
  },
  {
   "cell_type": "code",
   "execution_count": 6,
   "outputs": [],
   "source": [
    "def create_garch(data, target, p=1, q=1):\n",
    "    logreturns = np.array(data[['Daily_log_return']])\n",
    "    window = 22\n",
    "    n_ahead = 1\n",
    "    garch_pred = []\n",
    "    for i in range(split_index-1, len(logreturns)-n_ahead):\n",
    "        train = logreturns[:i]*100\n",
    "        gm = arch_model(train, p=p, q=q, dist='studentst')\n",
    "        gm_fit = gm.fit(disp='off')\n",
    "        pred = gm_fit.forecast(horizon=n_ahead)\n",
    "        vol = np.sqrt(pred.variance.values[-1,:].mean())*0.01*np.sqrt(252)\n",
    "        garch_pred.append(vol)\n",
    "\n",
    "    title = 'GARCH({},{}) prediction'.format(p, q)\n",
    "    split_target = np.array(target.iloc[split_index-22:])\n",
    "    plot(garch_pred, split_target, title, save=False)\n",
    "\n",
    "    print('---------GARCH({},{}) estimation-----------'.format(p,q))\n",
    "    mt.testScore(pred=garch_pred, target=split_target)"
   ],
   "metadata": {
    "collapsed": false,
    "pycharm": {
     "name": "#%%\n"
    }
   }
  },
  {
   "cell_type": "code",
   "execution_count": 7,
   "outputs": [],
   "source": [
    "def create_gjr(data, target, p=1, q=1, o=1):\n",
    "    logreturns = np.array(data[['Daily_log_return']].dropna())\n",
    "    window = 22\n",
    "    gjr_pred = []\n",
    "    for i in range(split_index-1, len(logreturns)-1):\n",
    "        train = logreturns[:i] * 100\n",
    "        gm = arch_model(train, p=p, q=q, o=o, dist='studentst')\n",
    "        gm_fit = gm.fit(disp='off')\n",
    "        pred = gm_fit.forecast(horizon=1)\n",
    "        gjr_pred.append(np.sqrt(pred.variance.values[-1, :].mean()) *0.01* np.sqrt(252))\n",
    "\n",
    "    title = 'GJR-GARCH({},{}) prediction'.format(p,q)\n",
    "    split_target = np.array(target.iloc[split_index-22:])\n",
    "    plot(gjr_pred, split_target, title, save=False)\n",
    "\n",
    "    print('---------GJR-GARCH({},{}) estimation-----------'.format(p,q))\n",
    "    mt.testScore(pred=gjr_pred, target=split_target)\n"
   ],
   "metadata": {
    "collapsed": false,
    "pycharm": {
     "name": "#%%\n"
    }
   }
  },
  {
   "cell_type": "code",
   "execution_count": 8,
   "outputs": [],
   "source": [
    "def plot(predict, target, title, save=False):\n",
    "    plt.plot(predict, label='predict')\n",
    "    plt.plot(target, label='target')\n",
    "    plt.title(title)\n",
    "    plt.legend()\n",
    "    if save:\n",
    "        plt.savefig('images/'+title)\n",
    "    plt.show()"
   ],
   "metadata": {
    "collapsed": false,
    "pycharm": {
     "name": "#%%\n"
    }
   }
  },
  {
   "cell_type": "code",
   "execution_count": 9,
   "outputs": [
    {
     "data": {
      "text/plain": "      Daily_log_return\n0             0.007249\n1            -0.001243\n2            -0.002375\n3             0.004126\n4            -0.002587\n...                ...\n2428          0.019042\n2429          0.005812\n2430         -0.006215\n2431          0.009324\n2432          0.002867\n\n[2433 rows x 1 columns]",
      "text/html": "<div>\n<style scoped>\n    .dataframe tbody tr th:only-of-type {\n        vertical-align: middle;\n    }\n\n    .dataframe tbody tr th {\n        vertical-align: top;\n    }\n\n    .dataframe thead th {\n        text-align: right;\n    }\n</style>\n<table border=\"1\" class=\"dataframe\">\n  <thead>\n    <tr style=\"text-align: right;\">\n      <th></th>\n      <th>Daily_log_return</th>\n    </tr>\n  </thead>\n  <tbody>\n    <tr>\n      <th>0</th>\n      <td>0.007249</td>\n    </tr>\n    <tr>\n      <th>1</th>\n      <td>-0.001243</td>\n    </tr>\n    <tr>\n      <th>2</th>\n      <td>-0.002375</td>\n    </tr>\n    <tr>\n      <th>3</th>\n      <td>0.004126</td>\n    </tr>\n    <tr>\n      <th>4</th>\n      <td>-0.002587</td>\n    </tr>\n    <tr>\n      <th>...</th>\n      <td>...</td>\n    </tr>\n    <tr>\n      <th>2428</th>\n      <td>0.019042</td>\n    </tr>\n    <tr>\n      <th>2429</th>\n      <td>0.005812</td>\n    </tr>\n    <tr>\n      <th>2430</th>\n      <td>-0.006215</td>\n    </tr>\n    <tr>\n      <th>2431</th>\n      <td>0.009324</td>\n    </tr>\n    <tr>\n      <th>2432</th>\n      <td>0.002867</td>\n    </tr>\n  </tbody>\n</table>\n<p>2433 rows × 1 columns</p>\n</div>"
     },
     "execution_count": 9,
     "metadata": {},
     "output_type": "execute_result"
    }
   ],
   "source": [
    "logreturn = data[['Daily_log_return']]\n",
    "logreturn"
   ],
   "metadata": {
    "collapsed": false,
    "pycharm": {
     "name": "#%%\n"
    }
   }
  },
  {
   "cell_type": "code",
   "execution_count": 10,
   "outputs": [
    {
     "name": "stdout",
     "output_type": "stream",
     "text": [
      "Kurtosis:  Daily_log_return    8.145594\n",
      "dtype: float64\n",
      "Skewness:  Daily_log_return   -0.365287\n",
      "dtype: float64\n"
     ]
    }
   ],
   "source": [
    "kurtosis = logreturn.kurtosis()\n",
    "skewness = logreturn.skew()\n",
    "print('Kurtosis: ', kurtosis)\n",
    "print('Skewness: ', skewness)"
   ],
   "metadata": {
    "collapsed": false,
    "pycharm": {
     "name": "#%%\n"
    }
   }
  },
  {
   "cell_type": "code",
   "execution_count": 11,
   "outputs": [
    {
     "data": {
      "text/plain": "array([[<AxesSubplot:title={'center':'Daily_log_return'}>]], dtype=object)"
     },
     "execution_count": 11,
     "metadata": {},
     "output_type": "execute_result"
    },
    {
     "data": {
      "text/plain": "<Figure size 432x288 with 1 Axes>",
      "image/png": "[encoded data removed]"
     },
     "metadata": {
      "needs_background": "light"
     },
     "output_type": "display_data"
    }
   ],
   "source": [
    "logreturn.describe()\n",
    "logreturn.hist()"
   ],
   "metadata": {
    "collapsed": false,
    "pycharm": {
     "name": "#%%\n"
    }
   }
  },
  {
   "cell_type": "code",
   "execution_count": 12,
   "outputs": [
    {
     "data": {
      "text/plain": "Jarque_beraResult(statistic=6748.679156990025, pvalue=0.0)"
     },
     "execution_count": 12,
     "metadata": {},
     "output_type": "execute_result"
    }
   ],
   "source": [
    "jarque_bera(logreturn)"
   ],
   "metadata": {
    "collapsed": false,
    "pycharm": {
     "name": "#%%\n"
    }
   }
  },
  {
   "cell_type": "code",
   "execution_count": 13,
   "outputs": [
    {
     "data": {
      "text/plain": "<Figure size 432x288 with 1 Axes>",
      "image/png": "[encoded data removed]"
     },
     "metadata": {
      "needs_background": "light"
     },
     "output_type": "display_data"
    }
   ],
   "source": [
    "plot_pacf(logreturn**2)\n",
    "# plt.savefig('images/pacf.png')\n",
    "plt.show()"
   ],
   "metadata": {
    "collapsed": false,
    "pycharm": {
     "name": "#%% AR process\n"
    }
   }
  },
  {
   "cell_type": "code",
   "execution_count": 14,
   "outputs": [
    {
     "name": "stdout",
     "output_type": "stream",
     "text": [
      "GARCH(1,1) AIC, BIC: 6198.668 and 6233.449\n",
      "GJR-GARCH(1,1) AIC, BIC: 6148.162 and 6188.740\n",
      "GARCH(1,2) AIC, BIC: 6200.668 and 6241.246\n",
      "GJR-GARCH(1,2) AIC, BIC: 6149.690 and 6196.065\n",
      "GARCH(1,3) AIC, BIC: 6202.668 and 6249.043\n",
      "GJR-GARCH(1,3) AIC, BIC: 6150.725 and 6202.897\n",
      "GARCH(2,1) AIC, BIC: 6197.989 and 6238.567\n",
      "GJR-GARCH(2,1) AIC, BIC: 6151.827 and 6203.999\n",
      "GARCH(2,2) AIC, BIC: 6198.032 and 6244.407\n",
      "GJR-GARCH(2,2) AIC, BIC: 6153.603 and 6211.572\n",
      "GARCH(2,3) AIC, BIC: 6193.931 and 6246.103\n",
      "GJR-GARCH(2,3) AIC, BIC: 6154.465 and 6218.230\n",
      "GARCH(3,1) AIC, BIC: 6199.989 and 6246.364\n",
      "GJR-GARCH(3,1) AIC, BIC: 6155.640 and 6219.405\n",
      "GARCH(3,2) AIC, BIC: 6200.032 and 6252.204\n",
      "GJR-GARCH(3,2) AIC, BIC: 6157.364 and 6226.926\n",
      "GARCH(3,3) AIC, BIC: 6195.929 and 6253.898\n",
      "GJR-GARCH(3,3) AIC, BIC: 6157.080 and 6232.440\n"
     ]
    }
   ],
   "source": [
    "for i in range(3):\n",
    "    for j in range(3):\n",
    "        gm_model = arch_model(logreturn*100, p=i+1,q=j+1, dist='skewt')\n",
    "        gjr_model = arch_model(logreturn*100, p=i+1, q=j+1, o=i+1,dist='skewt')\n",
    "        gm_fit = gm_model.fit(disp='off')\n",
    "        gjr_fit = gjr_model.fit(disp='off')\n",
    "\n",
    "        print('GARCH({},{}) AIC, BIC: {:.3f} and {:.3f}'.format(i+1,j+1,gm_fit.aic, gm_fit.bic))\n",
    "        print('GJR-GARCH({},{}) AIC, BIC: {:.3f} and {:.3f}'.format(i+1,j+1,gjr_fit.aic, gjr_fit.bic))"
   ],
   "metadata": {
    "collapsed": false,
    "pycharm": {
     "name": "#%%\n"
    }
   }
  },
  {
   "cell_type": "code",
   "execution_count": 15,
   "outputs": [
    {
     "data": {
      "text/plain": "<Figure size 432x288 with 1 Axes>",
      "image/png": "[encoded data removed]"
     },
     "metadata": {
      "needs_background": "light"
     },
     "output_type": "display_data"
    },
    {
     "name": "stdout",
     "output_type": "stream",
     "text": [
      "---------GJR-GARCH(1,1) estimation-----------\n",
      "MSE Score: 0.002534871347805049\n",
      "RMSE Score: 0.05034750587472083\n",
      "MAPE Score: 0.14110764088517128\n",
      "MAE Score: 0.02945464191844856\n",
      "---------GARCH(1,1) estimation-----------\n",
      "MSE Score: 0.0011080769791259497\n",
      "RMSE Score: 0.03328779024095697\n",
      "MAPE Score: 0.10337297916341066\n",
      "MAE Score: 0.02020399536195273\n"
     ]
    },
    {
     "data": {
      "text/plain": "<Figure size 432x288 with 1 Axes>",
      "image/png": "[encoded data removed]"
     },
     "metadata": {
      "needs_background": "light"
     },
     "output_type": "display_data"
    }
   ],
   "source": [
    "create_gjr(data, target, p=1,q=1)\n",
    "create_garch(data, target, p=1,q=1)"
   ],
   "metadata": {
    "collapsed": false,
    "pycharm": {
     "name": "#%%\n"
    }
   }
  },
  {
   "cell_type": "code",
   "execution_count": 16,
   "outputs": [
    {
     "name": "stdout",
     "output_type": "stream",
     "text": [
      "Iteration:      1,   Func. Count:      8,   Neg. LLF: 133645.14628477755\n",
      "Iteration:      2,   Func. Count:     19,   Neg. LLF: 225953.53725427104\n",
      "Iteration:      3,   Func. Count:     28,   Neg. LLF: 67850.19337247062\n",
      "Iteration:      4,   Func. Count:     37,   Neg. LLF: 55320.980051010396\n",
      "Iteration:      5,   Func. Count:     46,   Neg. LLF: 5867.557386707074\n",
      "Iteration:      6,   Func. Count:     54,   Neg. LLF: 5113.344964884956\n",
      "Iteration:      7,   Func. Count:     62,   Neg. LLF: 3183.200258020753\n",
      "Iteration:      8,   Func. Count:     70,   Neg. LLF: 3101.565285352244\n",
      "Iteration:      9,   Func. Count:     78,   Neg. LLF: 8924.96061596832\n",
      "Iteration:     10,   Func. Count:     86,   Neg. LLF: 3094.950911483029\n",
      "Iteration:     11,   Func. Count:     94,   Neg. LLF: 3093.4241722182232\n",
      "Iteration:     12,   Func. Count:    102,   Neg. LLF: 3093.336014767304\n",
      "Iteration:     13,   Func. Count:    109,   Neg. LLF: 3093.3340272137925\n",
      "Iteration:     14,   Func. Count:    116,   Neg. LLF: 3093.3339499294634\n",
      "Iteration:     15,   Func. Count:    123,   Neg. LLF: 3093.333936340566\n",
      "Iteration:     16,   Func. Count:    129,   Neg. LLF: 3093.333936340562\n",
      "Optimization terminated successfully    (Exit mode 0)\n",
      "            Current function value: 3093.333936340566\n",
      "            Iterations: 16\n",
      "            Function evaluations: 129\n",
      "            Gradient evaluations: 16\n"
     ]
    },
    {
     "data": {
      "text/plain": "<class 'statsmodels.iolib.summary.Summary'>\n\"\"\"\n                           Constant Mean - GARCH Model Results                           \n=========================================================================================\nDep. Variable:                  Daily_log_return   R-squared:                      -0.000\nMean Model:                        Constant Mean   Adj. R-squared:                 -0.000\nVol Model:                                 GARCH   Log-Likelihood:               -3093.33\nDistribution:      Standardized Skew Student's t   AIC:                           6198.67\nMethod:                       Maximum Likelihood   BIC:                           6233.45\n                                                   No. Observations:                 2433\nDate:                           Tue, Apr 20 2021   Df Residuals:                     2427\nTime:                                   01:48:52   Df Model:                            6\n                                  Mean Model                                 \n=============================================================================\n                 coef    std err          t      P>|t|       95.0% Conf. Int.\n-----------------------------------------------------------------------------\nmu             0.0177  1.651e-02      1.071      0.284 [-1.468e-02,5.002e-02]\n                              Volatility Model                              \n============================================================================\n                 coef    std err          t      P>|t|      95.0% Conf. Int.\n----------------------------------------------------------------------------\nomega          0.0190  7.435e-03      2.550  1.077e-02 [4.388e-03,3.353e-02]\nalpha[1]       0.0820  1.751e-02      4.682  2.836e-06   [4.768e-02,  0.116]\nbeta[1]        0.8992  2.273e-02     39.560      0.000     [  0.855,  0.944]\n                                Distribution                               \n===========================================================================\n                 coef    std err          t      P>|t|     95.0% Conf. Int.\n---------------------------------------------------------------------------\nnu             6.2469      0.744      8.391  4.808e-17    [  4.788,  7.706]\nlambda        -0.1245  2.531e-02     -4.917  8.809e-07 [ -0.174,-7.484e-02]\n===========================================================================\n\nCovariance estimator: robust\n\"\"\"",
      "text/html": "<table class=\"simpletable\">\n<caption>Constant Mean - GARCH Model Results</caption>\n<tr>\n  <th>Dep. Variable:</th>       <td>Daily_log_return</td>        <th>  R-squared:         </th>  <td>  -0.000</td> \n</tr>\n<tr>\n  <th>Mean Model:</th>            <td>Constant Mean</td>         <th>  Adj. R-squared:    </th>  <td>  -0.000</td> \n</tr>\n<tr>\n  <th>Vol Model:</th>                 <td>GARCH</td>             <th>  Log-Likelihood:    </th> <td>  -3093.33</td>\n</tr>\n<tr>\n  <th>Distribution:</th>  <td>Standardized Skew Student's t</td> <th>  AIC:               </th> <td>   6198.67</td>\n</tr>\n<tr>\n  <th>Method:</th>             <td>Maximum Likelihood</td>       <th>  BIC:               </th> <td>   6233.45</td>\n</tr>\n<tr>\n  <th></th>                             <td></td>                <th>  No. Observations:  </th>    <td>2433</td>   \n</tr>\n<tr>\n  <th>Date:</th>                <td>Tue, Apr 20 2021</td>        <th>  Df Residuals:      </th>    <td>2427</td>   \n</tr>\n<tr>\n  <th>Time:</th>                    <td>01:48:52</td>            <th>  Df Model:          </th>      <td>6</td>    \n</tr>\n</table>\n<table class=\"simpletable\">\n<caption>Mean Model</caption>\n<tr>\n   <td></td>     <th>coef</th>     <th>std err</th>      <th>t</th>       <th>P>|t|</th>      <th>95.0% Conf. Int.</th>   \n</tr>\n<tr>\n  <th>mu</th> <td>    0.0177</td> <td>1.651e-02</td> <td>    1.071</td> <td>    0.284</td> <td>[-1.468e-02,5.002e-02]</td>\n</tr>\n</table>\n<table class=\"simpletable\">\n<caption>Volatility Model</caption>\n<tr>\n      <td></td>        <th>coef</th>     <th>std err</th>      <th>t</th>       <th>P>|t|</th>     <th>95.0% Conf. Int.</th>   \n</tr>\n<tr>\n  <th>omega</th>    <td>    0.0190</td> <td>7.435e-03</td> <td>    2.550</td> <td>1.077e-02</td> <td>[4.388e-03,3.353e-02]</td>\n</tr>\n<tr>\n  <th>alpha[1]</th> <td>    0.0820</td> <td>1.751e-02</td> <td>    4.682</td> <td>2.836e-06</td>  <td>[4.768e-02,  0.116]</td> \n</tr>\n<tr>\n  <th>beta[1]</th>  <td>    0.8992</td> <td>2.273e-02</td> <td>   39.560</td>   <td>0.000</td>     <td>[  0.855,  0.944]</td>  \n</tr>\n</table>\n<table class=\"simpletable\">\n<caption>Distribution</caption>\n<tr>\n     <td></td>       <th>coef</th>     <th>std err</th>      <th>t</th>       <th>P>|t|</th>     <th>95.0% Conf. Int.</th>  \n</tr>\n<tr>\n  <th>nu</th>     <td>    6.2469</td> <td>    0.744</td> <td>    8.391</td> <td>4.808e-17</td>   <td>[  4.788,  7.706]</td> \n</tr>\n<tr>\n  <th>lambda</th> <td>   -0.1245</td> <td>2.531e-02</td> <td>   -4.917</td> <td>8.809e-07</td> <td>[ -0.174,-7.484e-02]</td>\n</tr>\n</table><br/><br/>Covariance estimator: robust"
     },
     "execution_count": 16,
     "metadata": {},
     "output_type": "execute_result"
    }
   ],
   "source": [
    "gm = arch_model(logreturn*100, p=1,q=1, dist='skewt')\n",
    "gm_fit = gm.fit()\n",
    "gm_fit.summary()"
   ],
   "metadata": {
    "collapsed": false,
    "pycharm": {
     "name": "#%%\n"
    }
   }
  },
  {
   "cell_type": "code",
   "execution_count": 16,
   "outputs": [
    {
     "data": {
      "text/plain": "0       0.831888\n1       0.825992\n2       0.796310\n3       0.771037\n4       0.752549\n          ...   \n2428    1.003681\n2429    1.103033\n2430    1.067265\n2431    1.037651\n2432    1.027509\nName: cond_vol, Length: 2433, dtype: float64"
     },
     "execution_count": 16,
     "metadata": {},
     "output_type": "execute_result"
    }
   ],
   "source": [
    "gm_fit.conditional_volatility"
   ],
   "metadata": {
    "collapsed": false,
    "pycharm": {
     "name": "#%%\n"
    }
   }
  },
  {
   "cell_type": "markdown",
   "source": [
    "## Results\n",
    "| Models        | AIC        | BIC       |\n",
    "| :------------ |:----------:| :---------:|\n",
    "| **GARCH(1,1)**    | **6253.84**    | **6276.98**   |\n",
    "| GARCH(1,2)    | 6255.84    | 6284.77   |\n",
    "| GARCH(1,3)    | 6257.84    | 6292.55   |\n",
    "| GARCH(2,1)    | 6254.79    | 6283.72   |\n",
    "| GARCH(2,2)    | 6256.15    | 6290.87   |\n",
    "| GARCH(2,3)    | 6257.22    | 6297.72   |\n",
    "| GARCH(3,1)    | 6256.79    | 6291.51   |\n",
    "| GARCH(3,2)    | 6258.15    | 6298.65   |\n",
    "| GARCH(3,3)    | 6258.95    | 6305.23   |\n",
    "| GJR-GARCH(1,1)    | 6194.82    | 6223.75   |\n",
    "| **GJR-GARCH(1,2)**    | **6192.65**    | **6227.36**   |\n",
    "| GJR-GARCH(1,3)    | 6193.64    | 6234.14   |\n",
    "| GJR-GARCH(2,1)    | 6196.32    | 6236.82   |\n",
    "| GJR-GARCH(2,2)    | 6195.33    | 6241.61   |\n",
    "| GJR-GARCH(2,3)    | 6196.69    | 6248.77   |\n",
    "| GJR-GARCH(3,1)    | 6199.01    | 6251.08   |\n",
    "| GJR-GARCH(3,2)    | 6199.23    | 6257.09   |\n",
    "| GJR-GARCH(3,3)    | 6200.69    | 6264.34   |"
   ],
   "metadata": {
    "collapsed": false,
    "pycharm": {
     "name": "#%% md\n"
    }
   }
  },
  {
   "cell_type": "code",
   "execution_count": null,
   "outputs": [],
   "source": [],
   "metadata": {
    "collapsed": false,
    "pycharm": {
     "name": "#%%\n"
    }
   }
  }
 ],
 "metadata": {
  "kernelspec": {
   "display_name": "Python 3",
   "language": "python",
   "name": "python3"
  },
  "language_info": {
   "codemirror_mode": {
    "name": "ipython",
    "version": 2
   },
   "file_extension": ".py",
   "mimetype": "text/x-python",
   "name": "python",
   "nbconvert_exporter": "python",
   "pygments_lexer": "ipython2",
   "version": "2.7.6"
  }
 },
 "nbformat": 4,
 "nbformat_minor": 0
}