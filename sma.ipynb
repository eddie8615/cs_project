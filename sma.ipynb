{
 "cells": [
  {
   "cell_type": "code",
   "execution_count": 8,
   "metadata": {
    "collapsed": true
   },
   "outputs": [],
   "source": [
    "import pandas as pd\n",
    "import matplotlib.pyplot as plt\n",
    "import numpy as np\n",
    "from statsmodels.tsa.arima_model import ARMA\n",
    "import data_reader as dr"
   ]
  },
  {
   "cell_type": "code",
   "execution_count": 9,
   "outputs": [
    {
     "name": "stdout",
     "output_type": "stream",
     "text": [
      "Loading data from file /home/changhyun/workspace/cxk858/dataset/kospi.csv...\n",
      "\n",
      "<class 'pandas.core.frame.DataFrame'>\n",
      "Int64Index: 2471 entries, 1 to 2483\n",
      "Data columns (total 15 columns):\n",
      " #   Column               Non-Null Count  Dtype  \n",
      "---  ------               --------------  -----  \n",
      " 0   Date                 2471 non-null   object \n",
      " 1   Open                 2471 non-null   float64\n",
      " 2   High                 2471 non-null   float64\n",
      " 3   Low                  2471 non-null   float64\n",
      " 4   Close                2471 non-null   float64\n",
      " 5   Adj Close            2471 non-null   float64\n",
      " 6   Volume               2471 non-null   float64\n",
      " 7   Daily_trading_range  2471 non-null   float64\n",
      " 8   Log_Volume_change    2471 non-null   float64\n",
      " 9   Daily_return         2471 non-null   float64\n",
      " 10  Daily_log_return     2471 non-null   float64\n",
      " 11  Past_vol22           2450 non-null   float64\n",
      " 12  Past_vol10           2462 non-null   float64\n",
      " 13  Target22             2449 non-null   float64\n",
      " 14  Target10             2461 non-null   float64\n",
      "dtypes: float64(14), object(1)\n",
      "memory usage: 308.9+ KB\n"
     ]
    }
   ],
   "source": [
    "data, source = dr.read('kospi.csv')\n",
    "data.info()"
   ],
   "metadata": {
    "collapsed": false,
    "pycharm": {
     "name": "#%%\n"
    }
   }
  },
  {
   "cell_type": "code",
   "execution_count": 18,
   "outputs": [
    {
     "data": {
      "text/plain": "            Date         Open         High          Low        Close  \\\n23    2011-01-04  2074.560059  2085.139893  2069.120117  2085.139893   \n24    2011-01-05  2083.100098  2087.139893  2076.919922  2082.550049   \n25    2011-01-06  2094.350098  2096.649902  2066.100098  2077.610107   \n26    2011-01-07  2073.679932  2086.199951  2068.659912  2086.199951   \n27    2011-01-10  2082.290039  2088.639893  2069.300049  2080.810059   \n...          ...          ...          ...          ...          ...   \n2479  2020-12-23  2737.739990  2769.080078  2716.280029  2759.820068   \n2480  2020-12-24  2762.600098  2812.159912  2762.600098  2806.860107   \n2481  2020-12-28  2820.949951  2834.590088  2799.560059  2808.600098   \n2482  2020-12-29  2810.550049  2823.439941  2792.060059  2820.510010   \n2483  2020-12-30  2820.360107  2878.209961  2809.350098  2873.469971   \n\n        Adj Close     Volume  Daily_trading_range  Log_Volume_change  \\\n23    2085.139893   415900.0            16.019776          16.086549   \n24    2082.550049   386100.0            10.219971          -7.434844   \n25    2077.610107   407800.0            30.549804           5.468045   \n26    2086.199951   335600.0            17.540039         -19.485688   \n27    2080.810059   342600.0            19.339844           2.064361   \n...           ...        ...                  ...                ...   \n2479  2759.820068  1121300.0            52.800049         -11.725771   \n2480  2806.860107  1030900.0            49.559814          -8.405652   \n2481  2808.600098  1006200.0            35.030029          -2.425135   \n2482  2820.510010  1046800.0            31.379882           3.955703   \n2483  2873.469971  1074000.0            68.859863           2.565210   \n\n      Daily_return  Daily_log_return  Past_vol22  Past_vol10  Target22  \\\n23        0.007275          0.007249    0.086037    0.075668  0.104995   \n24       -0.001242         -0.001243    0.087213    0.072652  0.102572   \n25       -0.002372         -0.002375    0.087567    0.075905  0.106966   \n26        0.004134          0.004126    0.087481    0.075547  0.107443   \n27       -0.002584         -0.002587    0.086771    0.072736  0.107598   \n...            ...               ...         ...         ...       ...   \n2479      0.009562          0.009517    0.162242    0.116865  0.145425   \n2480      0.017045          0.016901    0.169021    0.141552  0.145547   \n2481      0.000620          0.000620    0.166023    0.137070  0.140271   \n2482      0.004241          0.004232    0.164762    0.135559  0.139982   \n2483      0.018777          0.018603    0.172738    0.156117  0.145774   \n\n      Target10  \n23    0.099439  \n24    0.089788  \n25    0.103402  \n26    0.102397  \n27    0.106351  \n...        ...  \n2479  0.145386  \n2480  0.138318  \n2481  0.141724  \n2482  0.143859  \n2483  0.150631  \n\n[2449 rows x 15 columns]",
      "text/html": "<div>\n<style scoped>\n    .dataframe tbody tr th:only-of-type {\n        vertical-align: middle;\n    }\n\n    .dataframe tbody tr th {\n        vertical-align: top;\n    }\n\n    .dataframe thead th {\n        text-align: right;\n    }\n</style>\n<table border=\"1\" class=\"dataframe\">\n  <thead>\n    <tr style=\"text-align: right;\">\n      <th></th>\n      <th>Date</th>\n      <th>Open</th>\n      <th>High</th>\n      <th>Low</th>\n      <th>Close</th>\n      <th>Adj Close</th>\n      <th>Volume</th>\n      <th>Daily_trading_range</th>\n      <th>Log_Volume_change</th>\n      <th>Daily_return</th>\n      <th>Daily_log_return</th>\n      <th>Past_vol22</th>\n      <th>Past_vol10</th>\n      <th>Target22</th>\n      <th>Target10</th>\n    </tr>\n  </thead>\n  <tbody>\n    <tr>\n      <th>23</th>\n      <td>2011-01-04</td>\n      <td>2074.560059</td>\n      <td>2085.139893</td>\n      <td>2069.120117</td>\n      <td>2085.139893</td>\n      <td>2085.139893</td>\n      <td>415900.0</td>\n      <td>16.019776</td>\n      <td>16.086549</td>\n      <td>0.007275</td>\n      <td>0.007249</td>\n      <td>0.086037</td>\n      <td>0.075668</td>\n      <td>0.104995</td>\n      <td>0.099439</td>\n    </tr>\n    <tr>\n      <th>24</th>\n      <td>2011-01-05</td>\n      <td>2083.100098</td>\n      <td>2087.139893</td>\n      <td>2076.919922</td>\n      <td>2082.550049</td>\n      <td>2082.550049</td>\n      <td>386100.0</td>\n      <td>10.219971</td>\n      <td>-7.434844</td>\n      <td>-0.001242</td>\n      <td>-0.001243</td>\n      <td>0.087213</td>\n      <td>0.072652</td>\n      <td>0.102572</td>\n      <td>0.089788</td>\n    </tr>\n    <tr>\n      <th>25</th>\n      <td>2011-01-06</td>\n      <td>2094.350098</td>\n      <td>2096.649902</td>\n      <td>2066.100098</td>\n      <td>2077.610107</td>\n      <td>2077.610107</td>\n      <td>407800.0</td>\n      <td>30.549804</td>\n      <td>5.468045</td>\n      <td>-0.002372</td>\n      <td>-0.002375</td>\n      <td>0.087567</td>\n      <td>0.075905</td>\n      <td>0.106966</td>\n      <td>0.103402</td>\n    </tr>\n    <tr>\n      <th>26</th>\n      <td>2011-01-07</td>\n      <td>2073.679932</td>\n      <td>2086.199951</td>\n      <td>2068.659912</td>\n      <td>2086.199951</td>\n      <td>2086.199951</td>\n      <td>335600.0</td>\n      <td>17.540039</td>\n      <td>-19.485688</td>\n      <td>0.004134</td>\n      <td>0.004126</td>\n      <td>0.087481</td>\n      <td>0.075547</td>\n      <td>0.107443</td>\n      <td>0.102397</td>\n    </tr>\n    <tr>\n      <th>27</th>\n      <td>2011-01-10</td>\n      <td>2082.290039</td>\n      <td>2088.639893</td>\n      <td>2069.300049</td>\n      <td>2080.810059</td>\n      <td>2080.810059</td>\n      <td>342600.0</td>\n      <td>19.339844</td>\n      <td>2.064361</td>\n      <td>-0.002584</td>\n      <td>-0.002587</td>\n      <td>0.086771</td>\n      <td>0.072736</td>\n      <td>0.107598</td>\n      <td>0.106351</td>\n    </tr>\n    <tr>\n      <th>...</th>\n      <td>...</td>\n      <td>...</td>\n      <td>...</td>\n      <td>...</td>\n      <td>...</td>\n      <td>...</td>\n      <td>...</td>\n      <td>...</td>\n      <td>...</td>\n      <td>...</td>\n      <td>...</td>\n      <td>...</td>\n      <td>...</td>\n      <td>...</td>\n      <td>...</td>\n    </tr>\n    <tr>\n      <th>2479</th>\n      <td>2020-12-23</td>\n      <td>2737.739990</td>\n      <td>2769.080078</td>\n      <td>2716.280029</td>\n      <td>2759.820068</td>\n      <td>2759.820068</td>\n      <td>1121300.0</td>\n      <td>52.800049</td>\n      <td>-11.725771</td>\n      <td>0.009562</td>\n      <td>0.009517</td>\n      <td>0.162242</td>\n      <td>0.116865</td>\n      <td>0.145425</td>\n      <td>0.145386</td>\n    </tr>\n    <tr>\n      <th>2480</th>\n      <td>2020-12-24</td>\n      <td>2762.600098</td>\n      <td>2812.159912</td>\n      <td>2762.600098</td>\n      <td>2806.860107</td>\n      <td>2806.860107</td>\n      <td>1030900.0</td>\n      <td>49.559814</td>\n      <td>-8.405652</td>\n      <td>0.017045</td>\n      <td>0.016901</td>\n      <td>0.169021</td>\n      <td>0.141552</td>\n      <td>0.145547</td>\n      <td>0.138318</td>\n    </tr>\n    <tr>\n      <th>2481</th>\n      <td>2020-12-28</td>\n      <td>2820.949951</td>\n      <td>2834.590088</td>\n      <td>2799.560059</td>\n      <td>2808.600098</td>\n      <td>2808.600098</td>\n      <td>1006200.0</td>\n      <td>35.030029</td>\n      <td>-2.425135</td>\n      <td>0.000620</td>\n      <td>0.000620</td>\n      <td>0.166023</td>\n      <td>0.137070</td>\n      <td>0.140271</td>\n      <td>0.141724</td>\n    </tr>\n    <tr>\n      <th>2482</th>\n      <td>2020-12-29</td>\n      <td>2810.550049</td>\n      <td>2823.439941</td>\n      <td>2792.060059</td>\n      <td>2820.510010</td>\n      <td>2820.510010</td>\n      <td>1046800.0</td>\n      <td>31.379882</td>\n      <td>3.955703</td>\n      <td>0.004241</td>\n      <td>0.004232</td>\n      <td>0.164762</td>\n      <td>0.135559</td>\n      <td>0.139982</td>\n      <td>0.143859</td>\n    </tr>\n    <tr>\n      <th>2483</th>\n      <td>2020-12-30</td>\n      <td>2820.360107</td>\n      <td>2878.209961</td>\n      <td>2809.350098</td>\n      <td>2873.469971</td>\n      <td>2873.469971</td>\n      <td>1074000.0</td>\n      <td>68.859863</td>\n      <td>2.565210</td>\n      <td>0.018777</td>\n      <td>0.018603</td>\n      <td>0.172738</td>\n      <td>0.156117</td>\n      <td>0.145774</td>\n      <td>0.150631</td>\n    </tr>\n  </tbody>\n</table>\n<p>2449 rows × 15 columns</p>\n</div>"
     },
     "execution_count": 18,
     "metadata": {},
     "output_type": "execute_result"
    }
   ],
   "source": [
    "data_cleaned = data[21:].dropna()\n",
    "data_cleaned"
   ],
   "metadata": {
    "collapsed": false,
    "pycharm": {
     "name": "#%%\n"
    }
   }
  },
  {
   "cell_type": "code",
   "execution_count": 27,
   "outputs": [
    {
     "data": {
      "text/plain": "      Past_vol10\n23      0.075668\n24      0.072652\n25      0.075905\n26      0.075547\n27      0.072736\n...          ...\n2479    0.116865\n2480    0.141552\n2481    0.137070\n2482    0.135559\n2483    0.156117\n\n[2449 rows x 1 columns]",
      "text/html": "<div>\n<style scoped>\n    .dataframe tbody tr th:only-of-type {\n        vertical-align: middle;\n    }\n\n    .dataframe tbody tr th {\n        vertical-align: top;\n    }\n\n    .dataframe thead th {\n        text-align: right;\n    }\n</style>\n<table border=\"1\" class=\"dataframe\">\n  <thead>\n    <tr style=\"text-align: right;\">\n      <th></th>\n      <th>Past_vol10</th>\n    </tr>\n  </thead>\n  <tbody>\n    <tr>\n      <th>23</th>\n      <td>0.075668</td>\n    </tr>\n    <tr>\n      <th>24</th>\n      <td>0.072652</td>\n    </tr>\n    <tr>\n      <th>25</th>\n      <td>0.075905</td>\n    </tr>\n    <tr>\n      <th>26</th>\n      <td>0.075547</td>\n    </tr>\n    <tr>\n      <th>27</th>\n      <td>0.072736</td>\n    </tr>\n    <tr>\n      <th>...</th>\n      <td>...</td>\n    </tr>\n    <tr>\n      <th>2479</th>\n      <td>0.116865</td>\n    </tr>\n    <tr>\n      <th>2480</th>\n      <td>0.141552</td>\n    </tr>\n    <tr>\n      <th>2481</th>\n      <td>0.137070</td>\n    </tr>\n    <tr>\n      <th>2482</th>\n      <td>0.135559</td>\n    </tr>\n    <tr>\n      <th>2483</th>\n      <td>0.156117</td>\n    </tr>\n  </tbody>\n</table>\n<p>2449 rows × 1 columns</p>\n</div>"
     },
     "execution_count": 27,
     "metadata": {},
     "output_type": "execute_result"
    }
   ],
   "source": [
    "past_vol22 = data_cleaned[['Past_vol22']]\n",
    "past_vol10 = data_cleaned[['Past_vol10']]\n",
    "model = ARMA(past_vol10, order=(3,3))\n",
    "model_fit = model.fit()"
   ],
   "metadata": {
    "collapsed": false,
    "pycharm": {
     "name": "#%%\n"
    }
   }
  },
  {
   "cell_type": "code",
   "execution_count": 20,
   "outputs": [
    {
     "data": {
      "text/plain": "<class 'statsmodels.iolib.summary.Summary'>\n\"\"\"\n                              ARMA Model Results                              \n==============================================================================\nDep. Variable:             Past_vol10   No. Observations:                 2449\nModel:                     ARMA(3, 3)   Log Likelihood                6072.133\nMethod:                       css-mle   S.D. of innovations              0.020\nDate:                Sun, 21 Mar 2021   AIC                         -12128.265\nTime:                        20:53:15   BIC                         -12081.838\nSample:                             0   HQIC                        -12111.392\n                                                                              \n====================================================================================\n                       coef    std err          z      P>|z|      [0.025      0.975]\n------------------------------------------------------------------------------------\nconst                0.1409      0.011     12.740      0.000       0.119       0.163\nar.L1.Past_vol10     0.4120      0.143      2.879      0.004       0.132       0.692\nar.L2.Past_vol10     0.8123      0.030     26.949      0.000       0.753       0.871\nar.L3.Past_vol10    -0.2861      0.133     -2.152      0.031      -0.547      -0.026\nma.L1.Past_vol10     0.6376      0.142      4.482      0.000       0.359       0.916\nma.L2.Past_vol10    -0.1206      0.155     -0.777      0.437      -0.425       0.184\nma.L3.Past_vol10     0.1630      0.026      6.296      0.000       0.112       0.214\n                                    Roots                                    \n=============================================================================\n                  Real          Imaginary           Modulus         Frequency\n-----------------------------------------------------------------------------\nAR.1           -1.1361           +0.0000j            1.1361            0.5000\nAR.2            1.0525           +0.0000j            1.0525            0.0000\nAR.3            2.9233           +0.0000j            2.9233            0.0000\nMA.1           -1.0561           -0.0000j            1.0561           -0.5000\nMA.2            0.8979           -2.2363j            2.4098           -0.1892\nMA.3            0.8979           +2.2363j            2.4098            0.1892\n-----------------------------------------------------------------------------\n\"\"\"",
      "text/html": "<table class=\"simpletable\">\n<caption>ARMA Model Results</caption>\n<tr>\n  <th>Dep. Variable:</th>    <td>Past_vol10</td>    <th>  No. Observations:  </th>    <td>2449</td>   \n</tr>\n<tr>\n  <th>Model:</th>            <td>ARMA(3, 3)</td>    <th>  Log Likelihood     </th>  <td>6072.133</td> \n</tr>\n<tr>\n  <th>Method:</th>             <td>css-mle</td>     <th>  S.D. of innovations</th>    <td>0.020</td>  \n</tr>\n<tr>\n  <th>Date:</th>          <td>Sun, 21 Mar 2021</td> <th>  AIC                </th> <td>-12128.265</td>\n</tr>\n<tr>\n  <th>Time:</th>              <td>20:53:15</td>     <th>  BIC                </th> <td>-12081.838</td>\n</tr>\n<tr>\n  <th>Sample:</th>                <td>0</td>        <th>  HQIC               </th> <td>-12111.392</td>\n</tr>\n<tr>\n  <th></th>                       <td> </td>        <th>                     </th>      <td> </td>    \n</tr>\n</table>\n<table class=\"simpletable\">\n<tr>\n          <td></td>            <th>coef</th>     <th>std err</th>      <th>z</th>      <th>P>|z|</th>  <th>[0.025</th>    <th>0.975]</th>  \n</tr>\n<tr>\n  <th>const</th>            <td>    0.1409</td> <td>    0.011</td> <td>   12.740</td> <td> 0.000</td> <td>    0.119</td> <td>    0.163</td>\n</tr>\n<tr>\n  <th>ar.L1.Past_vol10</th> <td>    0.4120</td> <td>    0.143</td> <td>    2.879</td> <td> 0.004</td> <td>    0.132</td> <td>    0.692</td>\n</tr>\n<tr>\n  <th>ar.L2.Past_vol10</th> <td>    0.8123</td> <td>    0.030</td> <td>   26.949</td> <td> 0.000</td> <td>    0.753</td> <td>    0.871</td>\n</tr>\n<tr>\n  <th>ar.L3.Past_vol10</th> <td>   -0.2861</td> <td>    0.133</td> <td>   -2.152</td> <td> 0.031</td> <td>   -0.547</td> <td>   -0.026</td>\n</tr>\n<tr>\n  <th>ma.L1.Past_vol10</th> <td>    0.6376</td> <td>    0.142</td> <td>    4.482</td> <td> 0.000</td> <td>    0.359</td> <td>    0.916</td>\n</tr>\n<tr>\n  <th>ma.L2.Past_vol10</th> <td>   -0.1206</td> <td>    0.155</td> <td>   -0.777</td> <td> 0.437</td> <td>   -0.425</td> <td>    0.184</td>\n</tr>\n<tr>\n  <th>ma.L3.Past_vol10</th> <td>    0.1630</td> <td>    0.026</td> <td>    6.296</td> <td> 0.000</td> <td>    0.112</td> <td>    0.214</td>\n</tr>\n</table>\n<table class=\"simpletable\">\n<caption>Roots</caption>\n<tr>\n    <td></td>   <th>            Real</th>  <th>         Imaginary</th> <th>         Modulus</th>  <th>        Frequency</th>\n</tr>\n<tr>\n  <th>AR.1</th> <td>          -1.1361</td> <td>          +0.0000j</td> <td>           1.1361</td> <td>           0.5000</td>\n</tr>\n<tr>\n  <th>AR.2</th> <td>           1.0525</td> <td>          +0.0000j</td> <td>           1.0525</td> <td>           0.0000</td>\n</tr>\n<tr>\n  <th>AR.3</th> <td>           2.9233</td> <td>          +0.0000j</td> <td>           2.9233</td> <td>           0.0000</td>\n</tr>\n<tr>\n  <th>MA.1</th> <td>          -1.0561</td> <td>          -0.0000j</td> <td>           1.0561</td> <td>          -0.5000</td>\n</tr>\n<tr>\n  <th>MA.2</th> <td>           0.8979</td> <td>          -2.2363j</td> <td>           2.4098</td> <td>          -0.1892</td>\n</tr>\n<tr>\n  <th>MA.3</th> <td>           0.8979</td> <td>          +2.2363j</td> <td>           2.4098</td> <td>           0.1892</td>\n</tr>\n</table>"
     },
     "execution_count": 20,
     "metadata": {},
     "output_type": "execute_result"
    }
   ],
   "source": [
    "model_fit.summary()"
   ],
   "metadata": {
    "collapsed": false,
    "pycharm": {
     "name": "#%%\n"
    }
   }
  },
  {
   "cell_type": "code",
   "execution_count": 21,
   "outputs": [
    {
     "data": {
      "text/plain": "23      0.140918\n24      0.077576\n25      0.074560\n26      0.078112\n27      0.078179\n          ...   \n2479    0.147489\n2480    0.114830\n2481    0.140667\n2482    0.136219\n2483    0.139772\nLength: 2449, dtype: float64"
     },
     "execution_count": 21,
     "metadata": {},
     "output_type": "execute_result"
    }
   ],
   "source": [
    "pred = model_fit.predict()\n",
    "pred"
   ],
   "metadata": {
    "collapsed": false,
    "pycharm": {
     "name": "#%%\n"
    }
   }
  },
  {
   "cell_type": "code",
   "execution_count": 28,
   "outputs": [
    {
     "data": {
      "text/plain": "<Figure size 432x288 with 1 Axes>",
      "image/png": "[encoded data removed]"
     },
     "metadata": {
      "needs_background": "light"
     },
     "output_type": "display_data"
    }
   ],
   "source": [
    "plt.plot(data_cleaned[['Target10']], label='Target')\n",
    "plt.plot(pred, label='Pred')\n",
    "plt.legend()\n",
    "plt.show()"
   ],
   "metadata": {
    "collapsed": false,
    "pycharm": {
     "name": "#%%\n"
    }
   }
  },
  {
   "cell_type": "code",
   "execution_count": 29,
   "outputs": [],
   "source": [
    "import metrics as mt"
   ],
   "metadata": {
    "collapsed": false,
    "pycharm": {
     "name": "#%%\n"
    }
   }
  },
  {
   "cell_type": "code",
   "execution_count": 30,
   "outputs": [
    {
     "name": "stdout",
     "output_type": "stream",
     "text": [
      "test Score: 0.0015953123599620346 MSE\n",
      "test Score: 0.039941361518631716 RMSE\n",
      "test Score: 0.22082710130210523 MAPE\n"
     ]
    }
   ],
   "source": [
    "mt.testScore(pred, data_cleaned[['Target10']])"
   ],
   "metadata": {
    "collapsed": false,
    "pycharm": {
     "name": "#%%\n"
    }
   }
  },
  {
   "cell_type": "code",
   "execution_count": null,
   "outputs": [],
   "source": [],
   "metadata": {
    "collapsed": false,
    "pycharm": {
     "name": "#%%\n"
    }
   }
  }
 ],
 "metadata": {
  "kernelspec": {
   "display_name": "Python 3",
   "language": "python",
   "name": "python3"
  },
  "language_info": {
   "codemirror_mode": {
    "name": "ipython",
    "version": 2
   },
   "file_extension": ".py",
   "mimetype": "text/x-python",
   "name": "python",
   "nbconvert_exporter": "python",
   "pygments_lexer": "ipython2",
   "version": "2.7.6"
  }
 },
 "nbformat": 4,
 "nbformat_minor": 0
}