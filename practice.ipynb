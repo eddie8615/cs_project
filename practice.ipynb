{
 "cells": [
  {
   "cell_type": "code",
   "execution_count": 19,
   "metadata": {},
   "outputs": [
    {
     "name": "stdout",
     "output_type": "stream",
     "text": [
      "DATE\n",
      "2010-11-02   -0.513105\n",
      "2010-11-03   -0.108011\n",
      "2010-11-04   -0.294648\n",
      "2010-11-05    0.105736\n",
      "2010-11-08    0.568746\n",
      "                ...   \n",
      "2020-10-26   -0.177027\n",
      "2020-10-27    0.011527\n",
      "2020-10-28    0.519550\n",
      "2020-10-29   -0.232854\n",
      "2020-10-30    0.253731\n",
      "Name: DEXKOUS, Length: 2609, dtype: float64\n"
     ]
    }
   ],
   "source": [
    "import datetime as dt\n",
    "\n",
    "import pandas_datareader.data as web\n",
    "\n",
    "from arch import arch_model\n",
    "\n",
    "start = dt.datetime(2010,10,30)\n",
    "end = dt.datetime(2020,10,30)\n",
    "sp500 = web.DataReader('DEXKOUS', 'fred', start, end)\n",
    "returns = 100 * sp500['DEXKOUS'].pct_change().dropna()\n",
    "print(returns)\n",
    "am = arch_model(returns)"
   ]
  },
  {
   "cell_type": "code",
   "execution_count": 20,
   "metadata": {},
   "outputs": [
    {
     "name": "stdout",
     "output_type": "stream",
     "text": [
      "Iteration:      1,   Func. Count:      6,   Neg. LLF: 6642612854.956478\n",
      "Iteration:      2,   Func. Count:     15,   Neg. LLF: 1489707451.7033625\n",
      "Iteration:      3,   Func. Count:     24,   Neg. LLF: 6313160.835938742\n",
      "Iteration:      4,   Func. Count:     30,   Neg. LLF: 1874.876150886485\n",
      "Iteration:      5,   Func. Count:     36,   Neg. LLF: 1877.8503615917778\n",
      "Iteration:      6,   Func. Count:     42,   Neg. LLF: 1873.7797699730995\n",
      "Iteration:      7,   Func. Count:     48,   Neg. LLF: 2010.0149672412126\n",
      "Iteration:      8,   Func. Count:     55,   Neg. LLF: 1861.3760701121003\n",
      "Iteration:      9,   Func. Count:     61,   Neg. LLF: 1856.7977368721213\n",
      "Iteration:     10,   Func. Count:     67,   Neg. LLF: 1856.2946457312141\n",
      "Iteration:     11,   Func. Count:     72,   Neg. LLF: 1856.2946065544775\n",
      "Iteration:     12,   Func. Count:     76,   Neg. LLF: 1856.2946065521537\n",
      "Optimization terminated successfully    (Exit mode 0)\n",
      "            Current function value: 1856.2946065544775\n",
      "            Iterations: 12\n",
      "            Function evaluations: 76\n",
      "            Gradient evaluations: 12\n"
     ]
    }
   ],
   "source": [
    "res = am.fit()"
   ]
  },
  {
   "cell_type": "code",
   "execution_count": 15,
   "metadata": {},
   "outputs": [
    {
     "name": "stdout",
     "output_type": "stream",
     "text": [
      "                     Constant Mean - GARCH Model Results                      \n",
      "==============================================================================\n",
      "Dep. Variable:                DEXKOUS   R-squared:                      -0.000\n",
      "Mean Model:             Constant Mean   Adj. R-squared:                 -0.000\n",
      "Vol Model:                      GARCH   Log-Likelihood:               -974.842\n",
      "Distribution:                  Normal   AIC:                           1957.68\n",
      "Method:            Maximum Likelihood   BIC:                           1978.36\n",
      "                                        No. Observations:                 1299\n",
      "Date:                Fri, Nov 06 2020   Df Residuals:                     1295\n",
      "Time:                        19:32:47   Df Model:                            4\n",
      "                                  Mean Model                                  \n",
      "==============================================================================\n",
      "                  coef    std err          t      P>|t|       95.0% Conf. Int.\n",
      "------------------------------------------------------------------------------\n",
      "mu         -6.2709e-03  1.401e-02     -0.447      0.655 [-3.374e-02,2.120e-02]\n",
      "                               Volatility Model                              \n",
      "=============================================================================\n",
      "                 coef    std err          t      P>|t|       95.0% Conf. Int.\n",
      "-----------------------------------------------------------------------------\n",
      "omega      2.2866e-03  1.271e-03      1.799  7.196e-02 [-2.041e-04,4.777e-03]\n",
      "alpha[1]       0.0256  7.384e-03      3.470  5.196e-04  [1.115e-02,4.010e-02]\n",
      "beta[1]        0.9651  8.520e-03    113.279      0.000      [  0.948,  0.982]\n",
      "=============================================================================\n",
      "\n",
      "Covariance estimator: robust\n"
     ]
    }
   ],
   "source": [
    "print(res.summary())"
   ]
  },
  {
   "cell_type": "code",
   "execution_count": null,
   "metadata": {},
   "outputs": [],
   "source": []
  }
 ],
 "metadata": {
  "kernelspec": {
   "display_name": "Python 3",
   "language": "python",
   "name": "python3"
  },
  "language_info": {
   "codemirror_mode": {
    "name": "ipython",
    "version": 3
   },
   "file_extension": ".py",
   "mimetype": "text/x-python",
   "name": "python",
   "nbconvert_exporter": "python",
   "pygments_lexer": "ipython3",
   "version": "3.8.3"
  }
 },
 "nbformat": 4,
 "nbformat_minor": 4
}
