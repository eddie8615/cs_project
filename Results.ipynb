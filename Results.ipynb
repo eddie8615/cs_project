{
 "cells": [
  {
   "cell_type": "markdown",
   "metadata": {
    "collapsed": true,
    "pycharm": {
     "name": "#%% md\n"
    }
   },
   "source": [
    "# Experiment settings\n",
    "\n",
    "Dataset: KOSPI index from Jan, 2011 to Dec, 2020\\\n",
    "Included data in default: Daily log return, Daily trading range, Log volume change\\\n",
    "\n",
    "\n",
    "- Loss function: mean_squared_error\n",
    "- Optimizer: Adam\n",
    "- epochs: 20\n",
    "- batch_size: 16\n",
    "\n",
    "## Experiment results\n",
    "\n",
    "\n",
    "- Single-layer lstm model (10 units)\n",
    "    * Training error: 0.0292, Validation error: 0.0478\n",
    "    * MSE: 0.0011\n",
    "    * RMSE: 0.0331\n",
    "    * MAPE 0.1031\n",
    "\n",
    "![title](images/single_layer_model_pred.png)\n",
    "\n",
    "- GARCH(1,1) model\n",
    "    * MSE: 0.0015\n",
    "    * RMSE: 0.0389\n",
    "    * MAPE: 0.1292\n",
    "![title](images/garch(1,1).png)\n",
    "\n",
    "- EWMA model\n",
    "    * MSE: 0.0007\n",
    "    * RMSE: 0.027\n",
    "    * MAPE: 0.0974\n",
    "\n",
    "    * !Need to fix it: I used realized volatility as lagged volatility not derived from EWMA process\n",
    "![title](images/EWMA.png)\n"
   ]
  },
  {
   "cell_type": "code",
   "execution_count": null,
   "metadata": {
    "pycharm": {
     "name": "#%%\n"
    }
   },
   "outputs": [],
   "source": []
  }
 ],
 "metadata": {
  "kernelspec": {
   "display_name": "Python 3",
   "language": "python",
   "name": "python3"
  },
  "language_info": {
   "codemirror_mode": {
    "name": "ipython",
    "version": 3
   },
   "file_extension": ".py",
   "mimetype": "text/x-python",
   "name": "python",
   "nbconvert_exporter": "python",
   "pygments_lexer": "ipython3",
   "version": "3.8.5"
  }
 },
 "nbformat": 4,
 "nbformat_minor": 1
}