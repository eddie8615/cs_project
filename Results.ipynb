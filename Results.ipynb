{
 "cells": [
  {
   "cell_type": "markdown",
   "metadata": {
    "collapsed": true,
    "pycharm": {
     "name": "#%% md\n"
    }
   },
   "source": [
    "# Experiment settings\n",
    "\n",
    "Dataset: KOSPI index from Jan, 2011 to Dec, 2020\\\n",
    "Included data in default: Daily log return, Daily trading range, Log volume change\\\n",
    "\n",
    "# Data analysis\n",
    "\n",
    "- Augment Dickey Fuller test -> check for presence of unit root of the daily log return.\n",
    "ADF test statistics value: -18.6316\n",
    "p-value: 2.0573e-30\n",
    "\n",
    "Therefore, the daily log return is stationary.\n",
    "\n",
    "## Model selection part\n",
    "\n",
    "- EWMA model\n",
    "    * Tuned parameter: Weight decay (lambda)\n",
    "    * Range of changing the param: 0.9 ~ 0.99\n",
    "    * Applied to train set which is 80% of total data\n",
    "\n",
    "Simulation results\n",
    "\n",
    "| Weight Decay  | RMSE          | R2 score  | MAPE      |\n",
    "| :------------ |:-------------:| :--------:| ---------:|\n",
    "| 0.90          | 0.0363        | 0.913     | 0.103     |\n",
    "| 0.91          | 0.0340        | 0.923     | 0.098      |\n",
    "| 0.92          | 0.0330        | 0.928     | 0.094     |\n",
    "| 0.93          | 0.0338        | 0.924     | 0.092     |\n",
    "| 0.94          | 0.0370        | 0.910     | 0.094     |\n",
    "| 0.95          | 0.0425        | 0.880     | 0.104     |\n",
    "| 0.96          | 0.0505        | 0.831     | 0.121     |\n",
    "| 0.97          | 0.0610        | 0.753     | 0.149     |\n",
    "| 0.98          | 0.0748        | 0.630     | 0.195     |\n",
    "| 0.99          | 0.0926        | 0.432     | 0.253     |\n",
    "\n",
    "The best fit model (Decay: 0.93)\n",
    "![title](images/EWMA.png)"
   ]
  },
  {
   "cell_type": "markdown",
   "metadata": {
    "pycharm": {
     "name": "#%% md\n"
    }
   },
   "source": [
    "- GARCH model selection\n",
    "\n",
    "GARCH model with different lags\n",
    "\n",
    "For selecting appropriate lags for GARCH models, partial autocorrelation function is used\n",
    "\n",
    "![title](images/kospi_pacf.png)\n",
    "\n",
    "Candidates: GARCH(1,1), GARCH(2,2), GARCH(3,3), EGARCH(1,1), EGARCH(2,2), EGARCH(3,3)\n",
    "The candidates are nominated by refering pacf plot. The pacf plot indicates that from lag 1 to lag 3\n",
    "is out of significance level so that the past 3day values are relatively related to the current\n",
    "value.\n",
    "\n",
    "Strategy: The models are fitted by train set. Find the best model among the candidates first using AIC, BIC and Log-Likelihood.\n",
    "Then, tune the p and q parameters of the chosen one referring to p-value described at the model summary.\n",
    "\n",
    "AIC, BIC formula: [-2logL + kp] where L is the likelihood function, p is the number of params\n",
    "k is 2 for AIC, and log(n) for BIC.\n",
    "\n",
    "Model selection criteria\n",
    "\n",
    "| Models        | AIC        | BIC       | Log-Likelihood |\n",
    "| :------------ |:----------:| :--------:| --------------:|\n",
    "| GARCH(1,1)    | 4789.65    | 4823.13   | -2388.83       |\n",
    "| GARCH(2,2)    | 4789.29    | 4833.93   | -2386.64       |\n",
    "| GARCH(3,3)    | 4786.71    | 4842.52   | -2383.36       |\n",
    "| EGARCH(1,1)   | 4792.16    | 4825.65   | -2390.08       |\n",
    "| EGARCH(2,2)   | 4790.80    | 4835.45   | -2387.40       |\n",
    "| EGARCH(3,3)   | 4787.78    | 4843.59   | -2383.89       |\n",
    "\n",
    "There are no significant difference at AIC, BIC and Log-Likelihood.\n",
    "So I did all permutations of lags for forecasting."
   ]
  },
  {
   "cell_type": "markdown",
   "metadata": {
    "pycharm": {
     "name": "#%% md\n"
    }
   },
   "source": [
    "Results of GARCHs and EGARCHs\n",
    "\n",
    "All other different permutations of GARCH lags shows the less effectiveness than GARCH(1,1) model\n",
    "The GARCH(1,1) model has the least errors. Also, EGARCH(1,1) ahs the least errors among them.\n",
    "\n",
    "| Models        | RMSE       | MAPE      |\n",
    "| :------------ | :--------: | --------:  |\n",
    "| GARCH(1,1)    | 0.039      | 0.107     |\n",
    "| GARCH(2,2)    | 0.041      | 0.113     |\n",
    "| GARCH(3,3)    | 0.041      | 0.115     |\n",
    "| GJR-GARCH(1,1)   | 0.0517     | 0.171   |\n",
    "| GJR-GARCH(2,2)   | 0.0515     | 0.168   |\n",
    "| GJR-GARCH(3,3)   | 0.0507     | 0.164   |\n",
    "| EGARCH(1,1)   | 0.0679     | 0.192   |\n",
    "| EGARCH(2,2)   | 0.0668     | 0.190   |\n",
    "| EGARCH(3,3)   | 0.0670     | 0.191   |\n",
    "\n",
    "\n",
    "![title](images/garch11.png)\n",
    "\n",
    "![title](images/egarch11.png)"
   ]
  },
  {
   "cell_type": "markdown",
   "metadata": {
    "pycharm": {
     "name": "#%% md\n"
    }
   },
   "source": [
    "Result of LSTM model\n",
    "\n",
    "Single layer with 10 nodes.\n",
    "\n",
    "- RMSE: 0.0306\n",
    "- MAPE: 0.0892\n",
    "![title](images/single_layer_model_pred.png)"
   ]
  },
  {
   "cell_type": "markdown",
   "metadata": {
    "pycharm": {
     "name": "#%% md\n"
    }
   },
   "source": [
    "The results are 1 day ahead forecast with 22 rolling window. I am going to do 1 day forecast\n",
    "with 15 rolling window, and 5 day ahead forecast until this week.\n",
    "Then will move on write the report."
   ]
  }
 ],
 "metadata": {
  "kernelspec": {
   "display_name": "Python 3",
   "language": "python",
   "name": "python3"
  },
  "language_info": {
   "codemirror_mode": {
    "name": "ipython",
    "version": 3
   },
   "file_extension": ".py",
   "mimetype": "text/x-python",
   "name": "python",
   "nbconvert_exporter": "python",
   "pygments_lexer": "ipython3",
   "version": "3.8.5"
  }
 },
 "nbformat": 4,
 "nbformat_minor": 1
}