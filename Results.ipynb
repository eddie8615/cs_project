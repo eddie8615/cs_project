{
 "cells": [
  {
   "cell_type": "markdown",
   "metadata": {
    "collapsed": true,
    "pycharm": {
     "name": "#%% md\n"
    }
   },
   "source": [
    "# Experiment settings\n",
    "\n",
    "Dataset: KOSPI index from Jan, 2011 to Dec, 2020\\\n",
    "Included data in default: Daily log return, Daily trading range, Log volume change\\\n",
    "\n",
    "# Data analysis\n",
    "\n",
    "- Augment Dickey Fuller test -> check for presence of unit root of the daily log return.\n",
    "ADF test statistics value: -18.6316\n",
    "p-value: 2.0573e-30\n",
    "\n",
    "Therefore, the daily log return is stationary.\n",
    "\n",
    "## Model selection part\n"
   ]
  },
  {
   "cell_type": "markdown",
   "metadata": {
    "pycharm": {
     "name": "#%% md\n"
    }
   },
   "source": [
    "- GARCH model selection\n",
    "\n",
    "GARCH model with different lags\n",
    "\n",
    "For selecting appropriate lags for GARCH models, partial autocorrelation function is used\n",
    "\n",
    "![title](images/kospi_pacf.png)\n",
    "\n",
    "Candidates: GARCH(1,1), GARCH(2,2), GARCH(3,3), EGARCH(1,1), EGARCH(2,2), EGARCH(3,3)\n",
    "The candidates are nominated by refering pacf plot. The pacf plot indicates that from lag 1 to lag 3\n",
    "is out of significance level so that the past 3day values are relatively related to the current\n",
    "value.\n",
    "\n",
    "Strategy: The models are fitted by train set. Find the best model among the candidates first using AIC, BIC and Log-Likelihood.\n",
    "Then, tune the p and q parameters of the chosen one referring to p-value described at the model summary.\n",
    "\n",
    "AIC, BIC formula: [-2logL + kp] where L is the likelihood function, p is the number of params\n",
    "k is 2 for AIC, and log(n) for BIC.\n",
    "\n",
    "Model selection criteria\n",
    "\n",
    "| Models        | AIC        | BIC       | Log-Likelihood |\n",
    "| :------------ |:----------:| :--------:| --------------:|\n",
    "| GARCH(1,1)    | 4789.65    | 4823.13   | -2388.83       |\n",
    "| GARCH(2,2)    | 4789.29    | 4833.93   | -2386.64       |\n",
    "| GARCH(3,3)    | 4786.71    | 4842.52   | -2383.36       |\n",
    "| EGARCH(1,1)   | 4792.16    | 4825.65   | -2390.08       |\n",
    "| EGARCH(2,2)   | 4790.80    | 4835.45   | -2387.40       |\n",
    "| EGARCH(3,3)   | 4787.78    | 4843.59   | -2383.89       |\n",
    "\n",
    "There are no significant difference at AIC, BIC and Log-Likelihood.\n",
    "So I did all permutations of lags for forecasting."
   ]
  },
  {
   "cell_type": "markdown",
   "metadata": {
    "pycharm": {
     "name": "#%% md\n"
    }
   },
   "source": [
    "Results of GARCHs and EGARCHs\n",
    "\n",
    "All other different permutations of GARCH lags shows the less effectiveness than GARCH(1,1) model\n",
    "The GARCH(1,1) model has the least errors. Also, EGARCH(1,1) ahs the least errors among them.\n",
    "\n",
    "| Models        | RMSE       | MAPE      |\n",
    "| :------------ | :--------: | --------:  |\n",
    "| GARCH(1,1)    | 0.039      | 0.107     |\n",
    "| GARCH(2,2)    | 0.041      | 0.113     |\n",
    "| GARCH(3,3)    | 0.041      | 0.115     |\n",
    "| GJR-GARCH(1,1)   | 0.0517     | 0.171   |\n",
    "| GJR-GARCH(2,2)   | 0.0515     | 0.168   |\n",
    "| GJR-GARCH(3,3)   | 0.0507     | 0.164   |\n",
    "| EGARCH(1,1)   | 0.0679     | 0.192   |\n",
    "| EGARCH(2,2)   | 0.0668     | 0.190   |\n",
    "| EGARCH(3,3)   | 0.0670     | 0.191   |\n",
    "\n",
    "\n",
    "![title](images/garch11.png)\n",
    "\n",
    "![title](images/egarch11.png)"
   ]
  },
  {
   "cell_type": "markdown",
   "metadata": {
    "pycharm": {
     "name": "#%% md\n"
    }
   },
   "source": [
    "Result of LSTM model\n",
    "\n",
    "Single layer with 10 nodes.\n",
    "\n",
    "- RMSE: 0.0306\n",
    "- MAPE: 0.0892\n",
    "![title](images/single_layer_model_pred.png)"
   ]
  },
  {
   "cell_type": "markdown",
   "metadata": {
    "pycharm": {
     "name": "#%% md\n"
    }
   },
   "source": [
    "The results are 1 day ahead forecast with 22 rolling window. I am going to do 1 day forecast\n",
    "with 15 rolling window, and 5 day ahead forecast until this week.\n",
    "Then will move on write the report."
   ]
  },
  {
   "cell_type": "markdown",
   "source": [
    "LSTM model selection:\n",
    "Single layer: 64 units 0.6  the best batch_size:32, epochs:100\n",
    "\n",
    "FNN model selection:\n",
    "3 hidden layers 64,32,20 with tanh activation function\n",
    "three dropout layers to prevent overfitting which are 0.3, 0.1, 0.5 respectively.\n"
   ],
   "metadata": {
    "collapsed": false,
    "pycharm": {
     "name": "#%% md\n"
    }
   }
  },
  {
   "cell_type": "markdown",
   "source": [
    "## Experiment Results\n",
    "\n",
    "### Basic Models: FNN, LSTM\n",
    "\n",
    "This result is used for benchmarking\n",
    "\n",
    "22 rolling window -> 1 day ahead forecast\n",
    "\n",
    "| Models        | Training Error(MAE)   | Testing Error(MSE)   | Testing Error (MAPE) | Testing Error (MAE) |\n",
    "| :------------ | :--------------: | :------------------: | :-------------------: | ----------------------: |\n",
    "| LSTM          | 0.0235           | 0.0024               | 0.114                | 0.0267                   |\n",
    "| FNN           | 0.0380           | 0.0052               | 0.144                | 0.0349                   |\n",
    "| G-FNN         | 0.0269           | 0.0037               | 0.094                | 0.0253                   |\n",
    "| R-FNN         | 0.0304           | 0.0044               | 0.109                | 0.0281                   |\n",
    "| GR-FNN         | 0.0270           | 0.0048               | 0.098                | 0.0281                  |\n",
    "| G-LSTM         | 0.0165           | 0.0012               | 0.088                | 0.0198                  |\n",
    "| R-LSTM         | 0.0198           | 0.0016               | 0.116                | 0.0245                  |\n",
    "| GR-LSTM         | 0.0159           | 0.0018               | 0.098               | 0.0226                  |"
   ],
   "metadata": {
    "collapsed": false,
    "pycharm": {
     "name": "#%% md\n"
    }
   }
  },
  {
   "cell_type": "markdown",
   "source": [
    "## Experiment Overview\n",
    "\n",
    "There are several settings of this project.\n",
    "\n",
    "Window = 22 days\n",
    "\n",
    "| Models        | 5days ahead (MAPE) | 5 days ahead (RMSE)   | 10days ahead (MAPE)  | 10days ahead (RMSE) |  22days ahead (MAPE) | 22days ahead (RMSE) |\n",
    "| :------------ | :----------------: | :-------------------: | :------------------: | :-------------------: | :------------------: | ------------------: |\n",
    "| GARCH(1,1)    |            |                |                 |                    |\n",
    "| GJR-GARCH(1,1)|            |                |                 |                   |\n",
    "| LSTM          | 0.134              | 0.0430                | 0.149                | 0.0533              | 0.246                | 0.0790              |\n",
    "| FNN           | 0.118              | 0.0737                | 0.134                | 0.0685              | 0.161                | 0.0781              |\n",
    "| G-FNN         | 0.107              | 0.0627                | 0.109                | 0.0670              | 0.164                | 0.0747              |\n",
    "| R-FNN         | 0.107              | 0.0637                | 0.139                | 0.0659              | 0.158                | 0.0780              |\n",
    "| GR-FNN         | 0.092             | 0.0610                | 0.132                | 0.0705              | 0.171                | 0.0764              |\n",
    "| G-LSTM         | 0.089             | 0.0509                | 0.103                | 0.0489              | 0.173                | 0.0648              |\n",
    "| R-LSTM         | 0.113             | 0.0491                | 0.123                | 0.0503              | 0.221                | 0.0727              |\n",
    "| GR-LSTM         | 0.084            | 0.0453                | 0.111                | 0.0497              | 0.202                | 0.0723              |"
   ],
   "metadata": {
    "collapsed": false,
    "pycharm": {
     "name": "#%% md\n"
    }
   }
  },
  {
   "cell_type": "code",
   "execution_count": null,
   "outputs": [],
   "source": [],
   "metadata": {
    "collapsed": false,
    "pycharm": {
     "name": "#%%\n"
    }
   }
  }
 ],
 "metadata": {
  "kernelspec": {
   "display_name": "Python 3",
   "language": "python",
   "name": "python3"
  },
  "language_info": {
   "codemirror_mode": {
    "name": "ipython",
    "version": 3
   },
   "file_extension": ".py",
   "mimetype": "text/x-python",
   "name": "python",
   "nbconvert_exporter": "python",
   "pygments_lexer": "ipython3",
   "version": "3.8.5"
  }
 },
 "nbformat": 4,
 "nbformat_minor": 1
}