{
 "cells": [
  {
   "cell_type": "markdown",
   "metadata": {
    "collapsed": true,
    "pycharm": {
     "name": "#%% md\n"
    }
   },
   "source": [
    "# Experiment settings\n",
    "\n",
    "Dataset: KOSPI index from Jan, 2011 to Dec, 2020\\\n",
    "Included data in default: Daily log return, Daily trading range, Log volume change\\\n",
    "\n",
    "# Data analysis\n",
    "\n",
    "- Augment Dickey Fuller test -> check for presence of unit root of the daily log return.\n",
    "ADF test statistics value: -18.6316\n",
    "p-value: 2.0573e-30\n",
    "\n",
    "Therefore, the daily log return is stationary.\n",
    "\n",
    "## Model selection part\n"
   ]
  },
  {
   "cell_type": "markdown",
   "metadata": {
    "pycharm": {
     "name": "#%% md\n"
    }
   },
   "source": [
    "- GARCH model selection\n",
    "\n",
    "GARCH model with different lags\n",
    "\n",
    "For selecting appropriate lags for GARCH models, partial autocorrelation function is used\n",
    "\n",
    "![title](images/kospi_pacf.png)\n",
    "\n",
    "Candidates: GARCH(1,1), GARCH(2,2), GARCH(3,3), EGARCH(1,1), EGARCH(2,2), EGARCH(3,3)\n",
    "The candidates are nominated by refering pacf plot. The pacf plot indicates that from lag 1 to lag 3\n",
    "is out of significance level so that the past 3day values are relatively related to the current\n",
    "value.\n",
    "\n",
    "Strategy: The models are fitted by train set. Find the best model among the candidates first using AIC, BIC and Log-Likelihood.\n",
    "Then, tune the p and q parameters of the chosen one referring to p-value described at the model summary.\n",
    "\n",
    "AIC, BIC formula: [-2logL + kp] where L is the likelihood function, p is the number of params\n",
    "k is 2 for AIC, and log(n) for BIC.\n",
    "\n",
    "Model selection criteria\n",
    "\n",
    "| Models        | AIC        | BIC       | Log-Likelihood |\n",
    "| :------------ |:----------:| :--------:| --------------:|\n",
    "| GARCH(1,1)    | 4789.65    | 4823.13   | -2388.83       |\n",
    "| GARCH(2,2)    | 4789.29    | 4833.93   | -2386.64       |\n",
    "| GARCH(3,3)    | 4786.71    | 4842.52   | -2383.36       |\n",
    "| EGARCH(1,1)   | 4792.16    | 4825.65   | -2390.08       |\n",
    "| EGARCH(2,2)   | 4790.80    | 4835.45   | -2387.40       |\n",
    "| EGARCH(3,3)   | 4787.78    | 4843.59   | -2383.89       |\n",
    "\n",
    "There are no significant difference at AIC, BIC and Log-Likelihood.\n",
    "So I did all permutations of lags for forecasting."
   ]
  },
  {
   "cell_type": "markdown",
   "metadata": {
    "pycharm": {
     "name": "#%% md\n"
    }
   },
   "source": [
    "Results of GARCHs and EGARCHs\n",
    "\n",
    "All other different permutations of GARCH lags shows the less effectiveness than GARCH(1,1) model\n",
    "The GARCH(1,1) model has the least errors. Also, EGARCH(1,1) ahs the least errors among them.\n",
    "\n",
    "| Models        | RMSE       | MAPE      |\n",
    "| :------------ | :--------: | --------:  |\n",
    "| GARCH(1,1)    | 0.039      | 0.107     |\n",
    "| GARCH(2,2)    | 0.041      | 0.113     |\n",
    "| GARCH(3,3)    | 0.041      | 0.115     |\n",
    "| GJR-GARCH(1,1)   | 0.0517     | 0.171   |\n",
    "| GJR-GARCH(2,2)   | 0.0515     | 0.168   |\n",
    "| GJR-GARCH(3,3)   | 0.0507     | 0.164   |\n",
    "| EGARCH(1,1)   | 0.0679     | 0.192   |\n",
    "| EGARCH(2,2)   | 0.0668     | 0.190   |\n",
    "| EGARCH(3,3)   | 0.0670     | 0.191   |\n",
    "\n",
    "\n",
    "![title](images/garch11.png)\n",
    "\n",
    "![title](images/egarch11.png)"
   ]
  },
  {
   "cell_type": "markdown",
   "metadata": {
    "pycharm": {
     "name": "#%% md\n"
    }
   },
   "source": [
    "Result of LSTM model\n",
    "\n",
    "Single layer with 10 nodes.\n",
    "\n",
    "- RMSE: 0.0306\n",
    "- MAPE: 0.0892\n",
    "![title](images/single_layer_model_pred.png)"
   ]
  },
  {
   "cell_type": "markdown",
   "metadata": {
    "pycharm": {
     "name": "#%% md\n"
    }
   },
   "source": [
    "The results are 1 day ahead forecast with 22 rolling window. I am going to do 1 day forecast\n",
    "with 15 rolling window, and 5 day ahead forecast until this week.\n",
    "Then will move on write the report."
   ]
  },
  {
   "cell_type": "markdown",
   "source": [
    "LSTM model selection:\n",
    "2 LSTM layers: 32, 20 units 0.2, 0.2  the best batch_size:32, epochs:100\n",
    "\n",
    "FNN model selection:\n",
    "3 hidden layers 64,64,32 with tanh activation function\n",
    "three dropout layers to prevent overfitting which are 0.3, 0.3, 0.5 respectively.\n"
   ],
   "metadata": {
    "collapsed": false,
    "pycharm": {
     "name": "#%% md\n"
    }
   }
  },
  {
   "cell_type": "markdown",
   "source": [
    "## Experiment Results\n",
    "\n",
    "### Basic Models: FNN, LSTM\n",
    "\n",
    "This result is used for benchmarking\n",
    "\n",
    "22 rolling window -> 1 day ahead forecast\n",
    "\n",
    "| Models        | Training Error(MAE)   | Testing Error(MSE)   | Testing Error (MAPE) | Testing Error (MAE) |\n",
    "| :------------ | :--------------: | :------------------: | :-------------------: | ----------------------: |\n",
    "| LSTM          | 0.0235           | 0.0024               | 0.114                | 0.0267                   |\n",
    "| FNN           | 0.0380           | 0.0052               | 0.144                | 0.0349                   |\n",
    "| G-FNN         | 0.0269           | 0.0037               | 0.094                | 0.0253                   |\n",
    "| R-FNN         | 0.0304           | 0.0044               | 0.109                | 0.0281                   |\n",
    "| GR-FNN         | 0.0270           | 0.0048               | 0.098                | 0.0281                  |\n",
    "| G-LSTM         | 0.0165           | 0.0012               | 0.088                | 0.0198                  |\n",
    "| R-LSTM         | 0.0198           | 0.0016               | 0.116                | 0.0245                  |\n",
    "| GR-LSTM         | 0.0159           | 0.0018               | 0.098               | 0.0226                  |"
   ],
   "metadata": {
    "collapsed": false
   }
  },
  {
   "cell_type": "markdown",
   "source": [
    "## Experiment Overview\n",
    "\n",
    "There are several settings of this project.\n",
    "\n",
    "Window = 22 days\n",
    "\n",
    "| Models        | 5days ahead (MAPE) | 5 days ahead (RMSE)   | 10days ahead (MAPE)  | 10days ahead (RMSE) |  22days ahead (MAPE) | 22days ahead (RMSE) |\n",
    "| :------------ | :----------------: | :-------------------: | :------------------: | :-----------------: | :------------------: | ------------------: |\n",
    "| GARCH(2,3)    | 0.095              | 0.0495                | 0.100                | 0.0419              | 0.127                | 0.0614              |\n",
    "| GJR-GARCH(1,1)| 0.133              | 0.0491                | 0.137                | 0.0496              | 0.160                | 0.0623              |\n",
    "| LSTM          | 0.114              | 0.0442                | 0.124                | 0.0523              | 0.206                | 0.0817              |\n",
    "| FNN           | 0.158              | 0.0529                | 0.138                | 0.0540              | 0.152                | 0.0667              |\n",
    "| G-FNN         | 0.096              | 0.0388                | 0.093                | 0.0406              | 0.174                | 0.0698              |\n",
    "| R-FNN         | 0.135              | 0.0478                | 0.128                | 0.0525              | 0.175                | 0.0703              |\n",
    "| GR-FNN         | 0.126             | 0.0430                | 0.098                | 0.0416              | 0.176                | 0.0706              |\n",
    "| G-LSTM         | 0.081             | 0.0370                | 0.116                | 0.0468              | 0.158                | 0.0669              |\n",
    "| R-LSTM         | 0.107             | 0.0378                | 0.116                | 0.0431              | 0.171                | 0.0668              |\n",
    "| GR-LSTM         | 0.082            | 0.0383                | 0.106                | 0.0445              | 0.160                | 0.0663              |"
   ],
   "metadata": {
    "collapsed": false,
    "pycharm": {
     "name": "#%% md\n"
    }
   }
  },
  {
   "cell_type": "markdown",
   "source": [
    "Window = 10 days\n",
    "\n",
    "| Models        | 5days ahead (MAPE) | 5 days ahead (RMSE)   | 10days ahead (MAPE)  | 10days ahead (RMSE) |  22days ahead (MAPE) | 22days ahead (RMSE) |\n",
    "| :------------ | :----------------: | :-------------------: | :------------------: | :-----------------: | :------------------: | ------------------: |\n",
    "| LSTM          | 0.133              | 0.0480                | 0.149                | 0.0496              | 0.188                | 0.0722            |\n",
    "| FNN           | 0.168              | 0.0626                | 0.161                | 0.0603              | 0.157                | 0.0667            |\n",
    "| G-FNN         | 0.121              | 0.0454                | 0.111                | 0.0458              | 0.152                | 0.0625              |\n",
    "| R-FNN         | 0.102              | 0.0475                | 0.123                | 0.0502              | 0.156                | 0.0642              |\n",
    "| GR-FNN         | 0.090             | 0.0394                | 0.108                | 0.0464              | 0.207                | 0.0875              |\n",
    "| G-LSTM         | 0.098             | 0.0390                | 0.102                | 0.0399              | 0.156                | 0.0636              |\n",
    "| R-LSTM         | 0.124             | 0.0480                | 0.117                | 0.0418              | 0.171                | 0.0631              |\n",
    "| GR-LSTM         | 0.105            | 0.0436                | 0.107                | 0.0421              | 0.161                | 0.0627              |\n"
   ],
   "metadata": {
    "collapsed": false,
    "pycharm": {
     "name": "#%% md\n"
    }
   }
  },
  {
   "cell_type": "code",
   "execution_count": 0,
   "outputs": [],
   "source": [],
   "metadata": {
    "collapsed": false,
    "pycharm": {
     "name": "#%%\n"
    }
   }
  },
  {
   "cell_type": "code",
   "execution_count": null,
   "outputs": [],
   "source": [],
   "metadata": {
    "collapsed": false,
    "pycharm": {
     "name": "#%%\n"
    }
   }
  }
 ],
 "metadata": {
  "kernelspec": {
   "display_name": "Python 3",
   "language": "python",
   "name": "python3"
  },
  "language_info": {
   "codemirror_mode": {
    "name": "ipython",
    "version": 3
   },
   "file_extension": ".py",
   "mimetype": "text/x-python",
   "name": "python",
   "nbconvert_exporter": "python",
   "pygments_lexer": "ipython3",
   "version": "3.8.5"
  }
 },
 "nbformat": 4,
 "nbformat_minor": 1
}