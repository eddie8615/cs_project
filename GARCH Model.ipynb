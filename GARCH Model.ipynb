{
 "cells": [
  {
   "cell_type": "markdown",
   "metadata": {},
   "source": [
    "# GARCH(1,1) Model"
   ]
  },
  {
   "cell_type": "markdown",
   "metadata": {},
   "source": [
    "This notebook will implement GARCH(1,1) model for forecasting exchange rate volatility"
   ]
  },
  {
   "cell_type": "code",
   "execution_count": 68,
   "metadata": {},
   "outputs": [],
   "source": [
    "import pandas as pd\n",
    "import matplotlib.pyplot as plt\n",
    "import numpy as np\n",
    "from arch import arch_model\n",
    "from scipy.stats import norm\n",
    "import datetime as dt\n",
    "import pandas_datareader.data as web"
   ]
  },
  {
   "cell_type": "markdown",
   "metadata": {},
   "source": [
    "Firstly, I read dataset using pandas datareader function, which receives KRW/USD dataset from FRED. The number of observation is 2609"
   ]
  },
  {
   "cell_type": "code",
   "execution_count": 69,
   "metadata": {},
   "outputs": [
    {
     "name": "stdout",
     "output_type": "stream",
     "text": [
      "DATE\n",
      "2010-11-02   -0.513105\n",
      "2010-11-03   -0.108011\n",
      "2010-11-04   -0.294648\n",
      "2010-11-05    0.105736\n",
      "2010-11-08    0.568746\n",
      "                ...   \n",
      "2020-10-26   -0.177027\n",
      "2020-10-27    0.011527\n",
      "2020-10-28    0.519550\n",
      "2020-10-29   -0.232854\n",
      "2020-10-30    0.253731\n",
      "Name: DEXKOUS, Length: 2609, dtype: float64\n"
     ]
    }
   ],
   "source": [
    "start = dt.datetime(2010,10,30)\n",
    "end = dt.datetime(2020,10,30)\n",
    "currency_rate = web.DataReader('DEXKOUS', 'fred', start, end)\n",
    "returns = 100 * currency_rate['DEXKOUS'].pct_change().dropna()\n",
    "print(returns)"
   ]
  },
  {
   "cell_type": "code",
   "execution_count": 70,
   "metadata": {},
   "outputs": [
    {
     "data": {
      "image/png": "[encoded data removed]",
      "text/plain": [
       "<Figure size 432x288 with 1 Axes>"
      ]
     },
     "metadata": {
      "needs_background": "light"
     },
     "output_type": "display_data"
    }
   ],
   "source": [
    "plt.plot(returns, color='tomato', label='Daily Returns')\n",
    "plt.legend(loc='upper right')\n",
    "plt.show()"
   ]
  },
  {
   "cell_type": "code",
   "execution_count": 71,
   "metadata": {},
   "outputs": [
    {
     "name": "stdout",
     "output_type": "stream",
     "text": [
      "Daily volatility:  0.52%\n"
     ]
    }
   ],
   "source": [
    "vol_daily = returns.std()\n",
    "print('Daily volatility: ', '{:.2f}%'.format(vol_daily))"
   ]
  },
  {
   "cell_type": "markdown",
   "metadata": {},
   "source": [
    "From now on, I am going to apply dataset to garch model, which is formulated as normal distribution and constant mean assumption"
   ]
  },
  {
   "cell_type": "code",
   "execution_count": 72,
   "metadata": {},
   "outputs": [],
   "source": [
    "am = arch_model(returns, p=1, q=1, mean='constant', vol='GARCH', dist='normal')"
   ]
  },
  {
   "cell_type": "code",
   "execution_count": 73,
   "metadata": {},
   "outputs": [
    {
     "name": "stdout",
     "output_type": "stream",
     "text": [
      "Iteration:      1,   Func. Count:      6,   Neg. LLF: 6642612854.956478\n",
      "Iteration:      2,   Func. Count:     15,   Neg. LLF: 1489707451.7033625\n",
      "Iteration:      3,   Func. Count:     24,   Neg. LLF: 6313160.835938742\n",
      "Iteration:      4,   Func. Count:     30,   Neg. LLF: 1874.876150886485\n",
      "Iteration:      5,   Func. Count:     36,   Neg. LLF: 1877.8503615917778\n",
      "Iteration:      6,   Func. Count:     42,   Neg. LLF: 1873.7797699730995\n",
      "Iteration:      7,   Func. Count:     48,   Neg. LLF: 2010.0149672412126\n",
      "Iteration:      8,   Func. Count:     55,   Neg. LLF: 1861.3760701121003\n",
      "Iteration:      9,   Func. Count:     61,   Neg. LLF: 1856.7977368721213\n",
      "Iteration:     10,   Func. Count:     67,   Neg. LLF: 1856.2946457312141\n",
      "Iteration:     11,   Func. Count:     72,   Neg. LLF: 1856.2946065544775\n",
      "Iteration:     12,   Func. Count:     76,   Neg. LLF: 1856.2946065521537\n",
      "Optimization terminated successfully    (Exit mode 0)\n",
      "            Current function value: 1856.2946065544775\n",
      "            Iterations: 12\n",
      "            Function evaluations: 76\n",
      "            Gradient evaluations: 12\n"
     ]
    }
   ],
   "source": [
    "am_result  = am.fit()"
   ]
  },
  {
   "cell_type": "code",
   "execution_count": 74,
   "metadata": {},
   "outputs": [
    {
     "name": "stdout",
     "output_type": "stream",
     "text": [
      "                     Constant Mean - GARCH Model Results                      \n",
      "==============================================================================\n",
      "Dep. Variable:                DEXKOUS   R-squared:                      -0.000\n",
      "Mean Model:             Constant Mean   Adj. R-squared:                 -0.000\n",
      "Vol Model:                      GARCH   Log-Likelihood:               -1856.29\n",
      "Distribution:                  Normal   AIC:                           3720.59\n",
      "Method:            Maximum Likelihood   BIC:                           3744.06\n",
      "                                        No. Observations:                 2609\n",
      "Date:                Fri, Nov 06 2020   Df Residuals:                     2605\n",
      "Time:                        20:13:09   Df Model:                            4\n",
      "                                  Mean Model                                  \n",
      "==============================================================================\n",
      "                  coef    std err          t      P>|t|       95.0% Conf. Int.\n",
      "------------------------------------------------------------------------------\n",
      "mu         -9.6215e-03  9.183e-03     -1.048      0.295 [-2.762e-02,8.377e-03]\n",
      "                              Volatility Model                              \n",
      "============================================================================\n",
      "                 coef    std err          t      P>|t|      95.0% Conf. Int.\n",
      "----------------------------------------------------------------------------\n",
      "omega      2.1266e-03  8.829e-04      2.409  1.601e-02 [3.962e-04,3.857e-03]\n",
      "alpha[1]       0.0387  5.780e-03      6.701  2.068e-11 [2.740e-02,5.006e-02]\n",
      "beta[1]        0.9532  5.776e-03    165.036      0.000     [  0.942,  0.965]\n",
      "============================================================================\n",
      "\n",
      "Covariance estimator: robust\n"
     ]
    }
   ],
   "source": [
    "print(am_result.summary())"
   ]
  },
  {
   "cell_type": "code",
   "execution_count": 75,
   "metadata": {},
   "outputs": [],
   "source": [
    "am_forecast = am_result.forecast(horizon=5)"
   ]
  },
  {
   "cell_type": "code",
   "execution_count": 76,
   "metadata": {},
   "outputs": [
    {
     "name": "stdout",
     "output_type": "stream",
     "text": [
      "                h.1       h.2       h.3       h.4       h.5\n",
      "DATE                                                       \n",
      "2020-10-30  0.15601  0.156884  0.157751  0.158611  0.159463\n"
     ]
    }
   ],
   "source": [
    "print(am_forecast.variance[-1:])"
   ]
  },
  {
   "cell_type": "code",
   "execution_count": 77,
   "metadata": {},
   "outputs": [],
   "source": [
    "am_resid = am_result.resid\n",
    "am_std = am_result.conditional_volatility"
   ]
  },
  {
   "cell_type": "code",
   "execution_count": 78,
   "metadata": {},
   "outputs": [],
   "source": [
    "am_std_resid = am_resid/am_std"
   ]
  },
  {
   "cell_type": "code",
   "execution_count": 81,
   "metadata": {},
   "outputs": [],
   "source": [
    "mu, sigma = norm.fit(am_resid)\n",
    "fit = norm.pdf(50, mu, sigma)"
   ]
  },
  {
   "cell_type": "code",
   "execution_count": 87,
   "metadata": {},
   "outputs": [
    {
     "data": {
      "image/png": "[encoded data removed]",
      "text/plain": [
       "<Figure size 432x288 with 1 Axes>"
      ]
     },
     "metadata": {
      "needs_background": "light"
     },
     "output_type": "display_data"
    }
   ],
   "source": [
    "plt.hist(am_std_resid, bins = 50, facecolor='tomato', label='Standardized residuals')"
   ]
  },
  {
   "cell_type": "code",
   "execution_count": 88,
   "metadata": {},
   "outputs": [
    {
     "name": "stdout",
     "output_type": "stream",
     "text": [
      "Iteration:      1,   Func. Count:      8,   Neg. LLF: 63034.99535894247\n",
      "Iteration:      2,   Func. Count:     20,   Neg. LLF: 157434.76185167383\n",
      "Iteration:      3,   Func. Count:     30,   Neg. LLF: 36572.68356753818\n",
      "Iteration:      4,   Func. Count:     39,   Neg. LLF: 13369.402937497587\n",
      "Iteration:      5,   Func. Count:     47,   Neg. LLF: 4117.601945830269\n",
      "Iteration:      6,   Func. Count:     55,   Neg. LLF: 1779.620284225798\n",
      "Iteration:      7,   Func. Count:     63,   Neg. LLF: 3576.8967587639736\n",
      "Iteration:      8,   Func. Count:     71,   Neg. LLF: 1777.638074304573\n",
      "Iteration:      9,   Func. Count:     79,   Neg. LLF: 2212.9902287245\n",
      "Iteration:     10,   Func. Count:     88,   Neg. LLF: 1777.6352953126157\n",
      "Iteration:     11,   Func. Count:     96,   Neg. LLF: 1809.572279384653\n",
      "Iteration:     12,   Func. Count:    105,   Neg. LLF: 1774.2407422933072\n",
      "Iteration:     13,   Func. Count:    112,   Neg. LLF: 1774.2389713604637\n",
      "Iteration:     14,   Func. Count:    119,   Neg. LLF: 1774.238969371275\n",
      "Iteration:     15,   Func. Count:    125,   Neg. LLF: 1774.2389693712685\n",
      "Optimization terminated successfully    (Exit mode 0)\n",
      "            Current function value: 1774.238969371275\n",
      "            Iterations: 15\n",
      "            Function evaluations: 125\n",
      "            Gradient evaluations: 15\n"
     ]
    }
   ],
   "source": [
    "skewt_gm = arch_model(returns, p=1, q=1, mean='constant', vol='GARCH', dist='skewt')\n",
    "skewt_result = skewt_gm.fit()"
   ]
  },
  {
   "cell_type": "code",
   "execution_count": 89,
   "metadata": {},
   "outputs": [
    {
     "name": "stdout",
     "output_type": "stream",
     "text": [
      "                           Constant Mean - GARCH Model Results                           \n",
      "=========================================================================================\n",
      "Dep. Variable:                           DEXKOUS   R-squared:                      -0.000\n",
      "Mean Model:                        Constant Mean   Adj. R-squared:                 -0.000\n",
      "Vol Model:                                 GARCH   Log-Likelihood:               -1774.24\n",
      "Distribution:      Standardized Skew Student's t   AIC:                           3560.48\n",
      "Method:                       Maximum Likelihood   BIC:                           3595.68\n",
      "                                                   No. Observations:                 2609\n",
      "Date:                           Fri, Nov 06 2020   Df Residuals:                     2603\n",
      "Time:                                   20:16:26   Df Model:                            6\n",
      "                                  Mean Model                                  \n",
      "==============================================================================\n",
      "                  coef    std err          t      P>|t|       95.0% Conf. Int.\n",
      "------------------------------------------------------------------------------\n",
      "mu         -8.7700e-03  8.987e-03     -0.976      0.329 [-2.638e-02,8.844e-03]\n",
      "                              Volatility Model                              \n",
      "============================================================================\n",
      "                 coef    std err          t      P>|t|      95.0% Conf. Int.\n",
      "----------------------------------------------------------------------------\n",
      "omega      1.5638e-03  7.966e-04      1.963  4.964e-02 [2.472e-06,3.125e-03]\n",
      "alpha[1]       0.0417  6.225e-03      6.704  2.028e-11 [2.953e-02,5.393e-02]\n",
      "beta[1]        0.9540  6.001e-03    158.979      0.000     [  0.942,  0.966]\n",
      "                                 Distribution                                \n",
      "=============================================================================\n",
      "                 coef    std err          t      P>|t|       95.0% Conf. Int.\n",
      "-----------------------------------------------------------------------------\n",
      "nu             5.2733      0.538      9.805  1.075e-22      [  4.219,  6.327]\n",
      "lambda         0.0256  2.300e-02      1.115      0.265 [-1.943e-02,7.072e-02]\n",
      "=============================================================================\n",
      "\n",
      "Covariance estimator: robust\n"
     ]
    }
   ],
   "source": [
    "print(skewt_result.summary())"
   ]
  },
  {
   "cell_type": "code",
   "execution_count": 97,
   "metadata": {},
   "outputs": [
    {
     "name": "stdout",
     "output_type": "stream",
     "text": [
      "Iteration:      1,   Func. Count:      6,   Neg. LLF: 6642612854.956478\n",
      "Iteration:      2,   Func. Count:     15,   Neg. LLF: 1489707451.7033625\n",
      "Iteration:      3,   Func. Count:     24,   Neg. LLF: 6313160.835938742\n",
      "Iteration:      4,   Func. Count:     30,   Neg. LLF: 1874.876150886485\n",
      "Iteration:      5,   Func. Count:     36,   Neg. LLF: 1877.8503615917778\n",
      "Iteration:      6,   Func. Count:     42,   Neg. LLF: 1873.7797699730995\n",
      "Iteration:      7,   Func. Count:     48,   Neg. LLF: 2010.0149672412126\n",
      "Iteration:      8,   Func. Count:     55,   Neg. LLF: 1861.3760701121003\n",
      "Iteration:      9,   Func. Count:     61,   Neg. LLF: 1856.7977368721213\n",
      "Iteration:     10,   Func. Count:     67,   Neg. LLF: 1856.2946457312141\n",
      "Iteration:     11,   Func. Count:     72,   Neg. LLF: 1856.2946065544775\n",
      "Iteration:     12,   Func. Count:     76,   Neg. LLF: 1856.2946065521537\n",
      "Optimization terminated successfully    (Exit mode 0)\n",
      "            Current function value: 1856.2946065544775\n",
      "            Iterations: 12\n",
      "            Function evaluations: 76\n",
      "            Gradient evaluations: 12\n"
     ]
    }
   ],
   "source": [
    "cmean_model = arch_model(returns, p=1,q=1, mean='Constant', vol='GARCH', dist='normal')\n",
    "armean_model = arch_model(returns, p=1,q=1, mean='AR', vol='GARCH', dist='normal')\n",
    "cmean_res = cmean_model.fit()\n",
    "\n"
   ]
  },
  {
   "cell_type": "code",
   "execution_count": 98,
   "metadata": {},
   "outputs": [
    {
     "name": "stdout",
     "output_type": "stream",
     "text": [
      "Iteration:      1,   Func. Count:      6,   Neg. LLF: 6642612854.956478\n",
      "Iteration:      2,   Func. Count:     15,   Neg. LLF: 1489707451.7033625\n",
      "Iteration:      3,   Func. Count:     24,   Neg. LLF: 6313160.835938742\n",
      "Iteration:      4,   Func. Count:     30,   Neg. LLF: 1874.876150886485\n",
      "Iteration:      5,   Func. Count:     36,   Neg. LLF: 1877.8503615917778\n",
      "Iteration:      6,   Func. Count:     42,   Neg. LLF: 1873.7797699730995\n",
      "Iteration:      7,   Func. Count:     48,   Neg. LLF: 2010.0149672412126\n",
      "Iteration:      8,   Func. Count:     55,   Neg. LLF: 1861.3760701121003\n",
      "Iteration:      9,   Func. Count:     61,   Neg. LLF: 1856.7977368721213\n",
      "Iteration:     10,   Func. Count:     67,   Neg. LLF: 1856.2946457312141\n",
      "Iteration:     11,   Func. Count:     72,   Neg. LLF: 1856.2946065544775\n",
      "Iteration:     12,   Func. Count:     76,   Neg. LLF: 1856.2946065521537\n",
      "Optimization terminated successfully    (Exit mode 0)\n",
      "            Current function value: 1856.2946065544775\n",
      "            Iterations: 12\n",
      "            Function evaluations: 76\n",
      "            Gradient evaluations: 12\n"
     ]
    }
   ],
   "source": [
    "armean_res = armean_model.fit()"
   ]
  },
  {
   "cell_type": "code",
   "execution_count": 99,
   "metadata": {},
   "outputs": [
    {
     "data": {
      "image/png": "[encoded data removed]",
      "text/plain": [
       "<Figure size 432x288 with 1 Axes>"
      ]
     },
     "metadata": {
      "needs_background": "light"
     },
     "output_type": "display_data"
    }
   ],
   "source": [
    "plt.plot(armean_res.conditional_volatility, color='blue', label='AR Mean')\n",
    "plt.plot(cmean_res.conditional_volatility, color='red', label='Constant mean')\n",
    "plt.legend(loc='upper left')\n",
    "plt.show()"
   ]
  },
  {
   "cell_type": "code",
   "execution_count": 100,
   "metadata": {},
   "outputs": [
    {
     "name": "stdout",
     "output_type": "stream",
     "text": [
      "1.0\n"
     ]
    }
   ],
   "source": [
    "print(np.corrcoef(armean_res.conditional_volatility, cmean_res.conditional_volatility)[0,1])"
   ]
  },
  {
   "cell_type": "code",
   "execution_count": null,
   "metadata": {},
   "outputs": [],
   "source": []
  }
 ],
 "metadata": {
  "kernelspec": {
   "display_name": "Python 3",
   "language": "python",
   "name": "python3"
  },
  "language_info": {
   "codemirror_mode": {
    "name": "ipython",
    "version": 3
   },
   "file_extension": ".py",
   "mimetype": "text/x-python",
   "name": "python",
   "nbconvert_exporter": "python",
   "pygments_lexer": "ipython3",
   "version": "3.8.3"
  }
 },
 "nbformat": 4,
 "nbformat_minor": 4
}