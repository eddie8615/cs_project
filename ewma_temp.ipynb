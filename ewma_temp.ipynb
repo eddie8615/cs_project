{
 "cells": [
  {
   "cell_type": "markdown",
   "metadata": {
    "collapsed": true,
    "pycharm": {
     "name": "#%% md\n"
    }
   },
   "source": [
    "sigma^2 = lambda * sigma(prev)^2 + (1-lambda)return^2"
   ]
  },
  {
   "cell_type": "code",
   "execution_count": 1,
   "outputs": [],
   "source": [
    "import numpy as np\n",
    "import matplotlib.pyplot as plt\n",
    "import pandas as pd\n",
    "\n",
    "import data_reader as dr"
   ],
   "metadata": {
    "collapsed": false,
    "pycharm": {
     "name": "#%%\n"
    }
   }
  },
  {
   "cell_type": "code",
   "execution_count": 2,
   "outputs": [
    {
     "name": "stdout",
     "output_type": "stream",
     "text": [
      "Loading data from file /home/changhyun/workspace/cxk858/dataset/kospi_extended.csv...\n",
      "\n",
      "<class 'pandas.core.frame.DataFrame'>\n",
      "Int64Index: 2456 entries, 0 to 2461\n",
      "Data columns (total 12 columns):\n",
      " #   Column               Non-Null Count  Dtype  \n",
      "---  ------               --------------  -----  \n",
      " 0   Date                 2456 non-null   object \n",
      " 1   Open                 2456 non-null   float64\n",
      " 2   High                 2456 non-null   float64\n",
      " 3   Low                  2456 non-null   float64\n",
      " 4   Close                2456 non-null   float64\n",
      " 5   Adj Close            2456 non-null   float64\n",
      " 6   Volume               2456 non-null   float64\n",
      " 7   Daily_trading_range  2456 non-null   float64\n",
      " 8   Log_Volume_change    2455 non-null   float64\n",
      " 9   Daily_return         2455 non-null   float64\n",
      " 10  Daily_log_return     2455 non-null   float64\n",
      " 11  Target               2434 non-null   float64\n",
      "dtypes: float64(11), object(1)\n",
      "memory usage: 249.4+ KB\n"
     ]
    }
   ],
   "source": [
    "data, source = dr.read('kospi_extended.csv')\n",
    "data.info()"
   ],
   "metadata": {
    "collapsed": false,
    "pycharm": {
     "name": "#%%\n"
    }
   }
  },
  {
   "cell_type": "code",
   "execution_count": 3,
   "outputs": [
    {
     "name": "stdout",
     "output_type": "stream",
     "text": [
      "<class 'pandas.core.frame.DataFrame'>\n",
      "Int64Index: 2456 entries, 0 to 2461\n",
      "Data columns (total 5 columns):\n",
      " #   Column               Non-Null Count  Dtype  \n",
      "---  ------               --------------  -----  \n",
      " 0   Daily_trading_range  2456 non-null   float64\n",
      " 1   Log_Volume_change    2455 non-null   float64\n",
      " 2   Daily_log_return     2455 non-null   float64\n",
      " 3   Target               2434 non-null   float64\n",
      " 4   Squared_return       2455 non-null   float64\n",
      "dtypes: float64(5)\n",
      "memory usage: 115.1 KB\n"
     ]
    }
   ],
   "source": [
    "data = data.drop(['Date', 'Open', 'High', 'Low', 'Close', 'Adj Close', 'Volume', 'Daily_return'], axis=1)\n",
    "data['Squared_return'] = data['Daily_log_return']**2\n",
    "data.info()"
   ],
   "metadata": {
    "collapsed": false,
    "pycharm": {
     "name": "#%%\n"
    }
   }
  },
  {
   "cell_type": "code",
   "execution_count": 4,
   "outputs": [
    {
     "data": {
      "text/plain": "22      2.185806e-05\n23      3.364501e-05\n24      1.374123e-04\n25      3.346401e-04\n26      2.468531e-04\n            ...     \n2457    9.056992e-05\n2458    2.856429e-04\n2459    3.840461e-07\n2460    1.790601e-05\n2461    3.460577e-04\nName: Squared_return, Length: 2434, dtype: float64"
     },
     "execution_count": 4,
     "metadata": {},
     "output_type": "execute_result"
    }
   ],
   "source": [
    "sqreturn = data[['Squared_return']].iloc[22:,0]\n",
    "target = np.array(data[['Target']].dropna())\n",
    "target = pd.DataFrame(target)\n",
    "vol_init = np.sqrt(data[['Squared_return']].iloc[0:22,0].mean()*252)\n",
    "for i in range(1,22):\n",
    "    vol_init = vol_init + data[['Squared_return']].iloc[i]*0.06**i\n",
    "sqreturn"
   ],
   "metadata": {
    "collapsed": false,
    "pycharm": {
     "name": "#%% Squared returns are residuals of the EWMA process\n"
    }
   }
  },
  {
   "cell_type": "code",
   "execution_count": 5,
   "outputs": [
    {
     "data": {
      "text/plain": "Squared_return    0.116992\ndtype: float64"
     },
     "execution_count": 5,
     "metadata": {},
     "output_type": "execute_result"
    }
   ],
   "source": [
    "pred_vol = []\n",
    "pred_vol.append(vol_init)\n",
    "testSize = int(len(sqreturn)*0.2)\n",
    "trainResid = sqreturn\n",
    "\n",
    "vol_init"
   ],
   "metadata": {
    "collapsed": false,
    "pycharm": {
     "name": "#%%\n"
    }
   }
  },
  {
   "cell_type": "code",
   "execution_count": 44,
   "outputs": [
    {
     "data": {
      "text/plain": "22      2.185806e-05\n23      3.364501e-05\n24      1.374123e-04\n25      3.346401e-04\n26      2.468531e-04\n            ...     \n2457    9.056992e-05\n2458    2.856429e-04\n2459    3.840461e-07\n2460    1.790601e-05\n2461    3.460577e-04\nName: Squared_return, Length: 2434, dtype: float64"
     },
     "execution_count": 44,
     "metadata": {},
     "output_type": "execute_result"
    }
   ],
   "source": [
    "sqreturn"
   ],
   "metadata": {
    "collapsed": false,
    "pycharm": {
     "name": "#%%\n"
    }
   }
  },
  {
   "cell_type": "code",
   "execution_count": 6,
   "outputs": [
    {
     "data": {
      "text/plain": "1949"
     },
     "execution_count": 6,
     "metadata": {},
     "output_type": "execute_result"
    }
   ],
   "source": [
    "# Training session\n",
    "lamb = 0.94\n",
    "window = 21\n",
    "for i in range(len(sqreturn)-testSize):\n",
    "    rv = data[['Squared_return']].iloc[i:i+window,0].mean()*252\n",
    "    pred = lamb * rv + (1-lamb) * sqreturn.iloc[0]\n",
    "    pred_vol.append(np.sqrt(pred))\n",
    "\n",
    "len(pred_vol)"
   ],
   "metadata": {
    "collapsed": false,
    "pycharm": {
     "name": "#%% Refering to Riskmetric they recommend to use 0.94 for lambda value for get better result\n"
    }
   }
  },
  {
   "cell_type": "code",
   "execution_count": 7,
   "outputs": [
    {
     "data": {
      "text/plain": "Squared_return    0.109974\ndtype: float64"
     },
     "execution_count": 7,
     "metadata": {},
     "output_type": "execute_result"
    }
   ],
   "source": [
    "res = 0.94 * vol_init + (0.06)*sqreturn.iloc[0]\n",
    "res"
   ],
   "metadata": {
    "collapsed": false,
    "pycharm": {
     "name": "#%%\n"
    }
   }
  },
  {
   "cell_type": "code",
   "execution_count": 8,
   "outputs": [
    {
     "data": {
      "text/plain": "<Figure size 432x288 with 1 Axes>",
      "image/png": "[encoded data removed]"
     },
     "metadata": {
      "needs_background": "light"
     },
     "output_type": "display_data"
    }
   ],
   "source": [
    "plt.plot(target.iloc[:len(sqreturn)-testSize], label='Target')\n",
    "plt.plot(pred_vol[1:], label='EWMA')\n",
    "plt.legend()\n",
    "plt.show()"
   ],
   "metadata": {
    "collapsed": false,
    "pycharm": {
     "name": "#%%\n"
    }
   }
  },
  {
   "cell_type": "code",
   "execution_count": 11,
   "outputs": [],
   "source": [
    "from sklearn.metrics import mean_squared_error,mean_absolute_percentage_error"
   ],
   "metadata": {
    "collapsed": false,
    "pycharm": {
     "name": "#%%\n"
    }
   }
  },
  {
   "cell_type": "code",
   "execution_count": 12,
   "outputs": [
    {
     "name": "stdout",
     "output_type": "stream",
     "text": [
      "test Score: 0.0005875799966730248 MSE\n",
      "test Score: 0.024240049436274357 RMSE\n",
      "test Score: 0.11813410394945227 MAPE\n"
     ]
    }
   ],
   "source": [
    "testScore = mean_squared_error(target.iloc[:len(sqreturn)-testSize], pred_vol[1:])\n",
    "print(\"test Score: {score} MSE\".format(score=testScore))\n",
    "root_testScore = mean_squared_error(target.iloc[:len(sqreturn)-testSize], pred_vol[1:], squared=False)\n",
    "print(\"test Score: {score} RMSE\".format(score=root_testScore))\n",
    "mape = mean_absolute_percentage_error(target.iloc[:len(sqreturn)-testSize], pred_vol[1:])\n",
    "print(\"test Score: {score} MAPE\".format(score=mape))"
   ],
   "metadata": {
    "collapsed": false,
    "pycharm": {
     "name": "#%%\n"
    }
   }
  },
  {
   "cell_type": "code",
   "execution_count": 41,
   "outputs": [],
   "source": [
    "# test\n",
    "prev_vol = pred_vol[-1]\n",
    "test_pred = []\n",
    "test_pred.append(prev_vol)\n",
    "for i in range(len(sqreturn)-testSize,len(sqreturn)):\n",
    "    ewm = 0\n",
    "\n",
    "    # for j in range(i,i+window):\n",
    "    #     ewm = ewm + data[['Squared_return']].iloc[j] * ((1-lamb) ** (j-i+1))\n",
    "\n",
    "    rv = data[['Squared_return']].iloc[i:i+window,0].mean()*252\n",
    "    test_vol = lamb*rv + (1-lamb)*sqreturn.iloc[i]\n",
    "    test_pred.append(np.sqrt(test_vol))\n",
    "\n",
    "test_pred = test_pred[1:]\n",
    "test_target = np.array(target.iloc[len(sqreturn)-testSize:])\n",
    "test_target = pd.DataFrame(test_target)"
   ],
   "metadata": {
    "collapsed": false,
    "pycharm": {
     "name": "#%%\n"
    }
   }
  },
  {
   "cell_type": "code",
   "execution_count": 48,
   "outputs": [
    {
     "data": {
      "text/plain": "<Figure size 432x288 with 1 Axes>",
      "image/png": "[encoded data removed]"
     },
     "metadata": {
      "needs_background": "light"
     },
     "output_type": "display_data"
    }
   ],
   "source": [
    "plt.plot(test_pred, label='EWMA')\n",
    "plt.plot(test_target, label='Target')\n",
    "plt.legend()\n",
    "plt.savefig('images/EWMA.png')\n",
    "plt.show()"
   ],
   "metadata": {
    "collapsed": false,
    "pycharm": {
     "name": "#%%\n"
    }
   }
  },
  {
   "cell_type": "code",
   "execution_count": 43,
   "outputs": [
    {
     "name": "stdout",
     "output_type": "stream",
     "text": [
      "test Score: 0.000674805664439937 MSE\n",
      "test Score: 0.025977021854707228 RMSE\n",
      "test Score: 0.09741024091936207 MAPE\n"
     ]
    }
   ],
   "source": [
    "testScore = mean_squared_error(test_target, test_pred)\n",
    "print(\"test Score: {score} MSE\".format(score=testScore))\n",
    "root_testScore = mean_squared_error(test_target, test_pred, squared=False)\n",
    "print(\"test Score: {score} RMSE\".format(score=root_testScore))\n",
    "mape = mean_absolute_percentage_error(test_target, test_pred)\n",
    "print(\"test Score: {score} MAPE\".format(score=mape))"
   ],
   "metadata": {
    "collapsed": false,
    "pycharm": {
     "name": "#%%\n"
    }
   }
  },
  {
   "cell_type": "code",
   "execution_count": null,
   "outputs": [],
   "source": [],
   "metadata": {
    "collapsed": false,
    "pycharm": {
     "name": "#%%\n"
    }
   }
  }
 ],
 "metadata": {
  "kernelspec": {
   "display_name": "Python 3",
   "language": "python",
   "name": "python3"
  },
  "language_info": {
   "codemirror_mode": {
    "name": "ipython",
    "version": 2
   },
   "file_extension": ".py",
   "mimetype": "text/x-python",
   "name": "python",
   "nbconvert_exporter": "python",
   "pygments_lexer": "ipython2",
   "version": "2.7.6"
  }
 },
 "nbformat": 4,
 "nbformat_minor": 0
}