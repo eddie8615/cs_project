{
 "cells": [
  {
   "cell_type": "markdown",
   "metadata": {
    "collapsed": true,
    "pycharm": {
     "name": "#%% md\n"
    }
   },
   "source": [
    "sigma^2 = lambda * sigma(prev)^2 + (1-lambda)return^2"
   ]
  },
  {
   "cell_type": "code",
   "execution_count": 1,
   "outputs": [],
   "source": [
    "import numpy as np\n",
    "import matplotlib.pyplot as plt\n",
    "import pandas as pd\n",
    "\n",
    "from sklearn.model_selection import train_test_split\n",
    "import data_reader as dr"
   ],
   "metadata": {
    "collapsed": false,
    "pycharm": {
     "name": "#%%\n"
    }
   }
  },
  {
   "cell_type": "code",
   "execution_count": 2,
   "outputs": [
    {
     "name": "stdout",
     "output_type": "stream",
     "text": [
      "Loading data from file /home/changhyun/workspace/cxk858/dataset/kospi_extended.csv...\n",
      "\n"
     ]
    }
   ],
   "source": [
    "data, source = dr.read('kospi_extended.csv')"
   ],
   "metadata": {
    "collapsed": false,
    "pycharm": {
     "name": "#%%\n"
    }
   }
  },
  {
   "cell_type": "code",
   "execution_count": 3,
   "outputs": [
    {
     "name": "stdout",
     "output_type": "stream",
     "text": [
      "<class 'pandas.core.frame.DataFrame'>\n",
      "Int64Index: 2456 entries, 0 to 2461\n",
      "Data columns (total 12 columns):\n",
      " #   Column               Non-Null Count  Dtype  \n",
      "---  ------               --------------  -----  \n",
      " 0   Date                 2456 non-null   object \n",
      " 1   Open                 2456 non-null   float64\n",
      " 2   High                 2456 non-null   float64\n",
      " 3   Low                  2456 non-null   float64\n",
      " 4   Close                2456 non-null   float64\n",
      " 5   Adj Close            2456 non-null   float64\n",
      " 6   Volume               2456 non-null   float64\n",
      " 7   Daily_trading_range  2456 non-null   float64\n",
      " 8   Log_Volume_change    2455 non-null   float64\n",
      " 9   Daily_return         2455 non-null   float64\n",
      " 10  Daily_log_return     2455 non-null   float64\n",
      " 11  Target               2434 non-null   float64\n",
      "dtypes: float64(11), object(1)\n",
      "memory usage: 249.4+ KB\n"
     ]
    }
   ],
   "source": [
    "data.info()"
   ],
   "metadata": {
    "collapsed": false,
    "pycharm": {
     "name": "#%%\n"
    }
   }
  },
  {
   "cell_type": "code",
   "execution_count": 4,
   "outputs": [
    {
     "data": {
      "text/plain": "0            NaN\n1            NaN\n2            NaN\n3            NaN\n4            NaN\n          ...   \n2457    0.146351\n2458    0.146712\n2459    0.141543\n2460    0.141185\n2461    0.147144\nName: Target, Length: 2456, dtype: float64"
     },
     "execution_count": 4,
     "metadata": {},
     "output_type": "execute_result"
    }
   ],
   "source": [
    "data['Target']"
   ],
   "metadata": {
    "collapsed": false,
    "pycharm": {
     "name": "#%%\n"
    }
   }
  },
  {
   "cell_type": "code",
   "execution_count": 5,
   "outputs": [],
   "source": [
    "trainingData = data[22:]"
   ],
   "metadata": {
    "collapsed": false,
    "pycharm": {
     "name": "#%%\n"
    }
   }
  },
  {
   "cell_type": "code",
   "execution_count": 6,
   "outputs": [],
   "source": [
    "data = data.drop(['Date', 'Open', 'High', 'Low', 'Close', 'Adj Close', 'Volume', 'Daily_return'], axis=1)\n",
    "trainingData = trainingData.drop(['Date', 'Open', 'High', 'Low', 'Close', 'Adj Close', 'Volume', 'Daily_return'], axis=1)"
   ],
   "metadata": {
    "collapsed": false,
    "pycharm": {
     "name": "#%%\n"
    }
   }
  },
  {
   "cell_type": "code",
   "execution_count": 7,
   "outputs": [
    {
     "name": "stdout",
     "output_type": "stream",
     "text": [
      "<class 'pandas.core.frame.DataFrame'>\n",
      "Int64Index: 2456 entries, 0 to 2461\n",
      "Data columns (total 5 columns):\n",
      " #   Column               Non-Null Count  Dtype  \n",
      "---  ------               --------------  -----  \n",
      " 0   Daily_trading_range  2456 non-null   float64\n",
      " 1   Log_Volume_change    2455 non-null   float64\n",
      " 2   Daily_log_return     2455 non-null   float64\n",
      " 3   Target               2434 non-null   float64\n",
      " 4   Squared_return       2455 non-null   float64\n",
      "dtypes: float64(5)\n",
      "memory usage: 115.1 KB\n",
      "<class 'pandas.core.frame.DataFrame'>\n",
      "Int64Index: 2434 entries, 22 to 2461\n",
      "Data columns (total 4 columns):\n",
      " #   Column               Non-Null Count  Dtype  \n",
      "---  ------               --------------  -----  \n",
      " 0   Daily_trading_range  2434 non-null   float64\n",
      " 1   Log_Volume_change    2434 non-null   float64\n",
      " 2   Daily_log_return     2434 non-null   float64\n",
      " 3   Target               2434 non-null   float64\n",
      "dtypes: float64(4)\n",
      "memory usage: 95.1 KB\n"
     ]
    }
   ],
   "source": [
    "data['Squared_return'] = data['Daily_log_return']**2\n",
    "data.info()\n",
    "trainingData.info()"
   ],
   "metadata": {
    "collapsed": false,
    "pycharm": {
     "name": "#%%\n"
    }
   }
  },
  {
   "cell_type": "code",
   "execution_count": 8,
   "outputs": [],
   "source": [
    "# daily_vol = []\n",
    "# for i in range(22, len(data['Squared_return'])):\n",
    "#     returns = data[['Squared_return']].iloc[i-22:i,0]\n",
    "#     vol= np.sqrt(returns.mean()*252)\n",
    "#     daily_vol.append(vol)\n",
    "vol_init = np.sqrt(data[['Squared_return']].iloc[0:21,0].mean()*252)\n"
   ],
   "metadata": {
    "collapsed": false,
    "pycharm": {
     "name": "#%%\n"
    }
   }
  },
  {
   "cell_type": "code",
   "execution_count": 9,
   "outputs": [
    {
     "name": "stdout",
     "output_type": "stream",
     "text": [
      "<class 'pandas.core.frame.DataFrame'>\n",
      "RangeIndex: 2434 entries, 0 to 2433\n",
      "Data columns (total 1 columns):\n",
      " #   Column            Non-Null Count  Dtype  \n",
      "---  ------            --------------  -----  \n",
      " 0   Daily_volatility  2434 non-null   float64\n",
      "dtypes: float64(1)\n",
      "memory usage: 19.1 KB\n"
     ]
    }
   ],
   "source": [
    "# daily_vol = pd.DataFrame(daily_vol)\n",
    "# daily_vol.columns = ['Daily_volatility']\n",
    "# daily_vol.info()"
   ],
   "metadata": {
    "collapsed": false,
    "pycharm": {
     "name": "#%%\n"
    }
   }
  },
  {
   "cell_type": "code",
   "execution_count": 10,
   "outputs": [],
   "source": [
    "ld=0.94\n",
    "sq = data[['Squared_return']].iloc[22:,0]\n",
    "sq = np.array(sq)\n",
    "sq = sq.reshape(2434,1)\n",
    "arr_daily_vol = np.array(daily_vol)"
   ],
   "metadata": {
    "collapsed": false,
    "pycharm": {
     "name": "#%%Annualised\n"
    }
   }
  },
  {
   "cell_type": "code",
   "execution_count": 11,
   "outputs": [
    {
     "name": "stdout",
     "output_type": "stream",
     "text": [
      "<class 'pandas.core.frame.DataFrame'>\n",
      "RangeIndex: 2434 entries, 0 to 2433\n",
      "Data columns (total 1 columns):\n",
      " #   Column            Non-Null Count  Dtype  \n",
      "---  ------            --------------  -----  \n",
      " 0   Daily_volatility  2434 non-null   float64\n",
      "dtypes: float64(1)\n",
      "memory usage: 19.1 KB\n"
     ]
    }
   ],
   "source": [
    "ewma_vol = (1-ld) * sq + ld*(arr_daily_vol**2)\n",
    "ewma_vol = np.sqrt(ewma_vol)\n",
    "ewma_vol = pd.DataFrame(ewma_vol)\n",
    "ewma_vol.columns = ['Daily_volatility']\n",
    "ewma_vol.info()"
   ],
   "metadata": {
    "collapsed": false,
    "pycharm": {
     "name": "#%%\n"
    }
   }
  },
  {
   "cell_type": "code",
   "execution_count": 16,
   "outputs": [
    {
     "data": {
      "text/plain": "[<matplotlib.lines.Line2D at 0x7f7390b68460>]"
     },
     "execution_count": 16,
     "metadata": {},
     "output_type": "execute_result"
    },
    {
     "data": {
      "text/plain": "<Figure size 432x288 with 1 Axes>",
      "image/png": "[encoded data removed]"
     },
     "metadata": {
      "needs_background": "light"
     },
     "output_type": "display_data"
    }
   ],
   "source": [
    "plt.plot(ewma_vol)\n",
    "plt.plot(data['Target'])"
   ],
   "metadata": {
    "collapsed": false,
    "pycharm": {
     "name": "#%%\n"
    }
   }
  },
  {
   "cell_type": "code",
   "execution_count": 13,
   "outputs": [
    {
     "data": {
      "text/plain": "      Daily_volatility\n2424          0.171026\n2425          0.159566\n2426          0.159495\n2427          0.159289\n2428          0.159506\n2429          0.168038\n2430          0.159121\n2431          0.167375\n2432          0.166143\n2433          0.163951",
      "text/html": "<div>\n<style scoped>\n    .dataframe tbody tr th:only-of-type {\n        vertical-align: middle;\n    }\n\n    .dataframe tbody tr th {\n        vertical-align: top;\n    }\n\n    .dataframe thead th {\n        text-align: right;\n    }\n</style>\n<table border=\"1\" class=\"dataframe\">\n  <thead>\n    <tr style=\"text-align: right;\">\n      <th></th>\n      <th>Daily_volatility</th>\n    </tr>\n  </thead>\n  <tbody>\n    <tr>\n      <th>2424</th>\n      <td>0.171026</td>\n    </tr>\n    <tr>\n      <th>2425</th>\n      <td>0.159566</td>\n    </tr>\n    <tr>\n      <th>2426</th>\n      <td>0.159495</td>\n    </tr>\n    <tr>\n      <th>2427</th>\n      <td>0.159289</td>\n    </tr>\n    <tr>\n      <th>2428</th>\n      <td>0.159506</td>\n    </tr>\n    <tr>\n      <th>2429</th>\n      <td>0.168038</td>\n    </tr>\n    <tr>\n      <th>2430</th>\n      <td>0.159121</td>\n    </tr>\n    <tr>\n      <th>2431</th>\n      <td>0.167375</td>\n    </tr>\n    <tr>\n      <th>2432</th>\n      <td>0.166143</td>\n    </tr>\n    <tr>\n      <th>2433</th>\n      <td>0.163951</td>\n    </tr>\n  </tbody>\n</table>\n</div>"
     },
     "execution_count": 13,
     "metadata": {},
     "output_type": "execute_result"
    }
   ],
   "source": [
    "ewma_vol.tail(10)"
   ],
   "metadata": {
    "collapsed": false,
    "pycharm": {
     "name": "#%%\n"
    }
   }
  },
  {
   "cell_type": "code",
   "execution_count": 14,
   "outputs": [
    {
     "data": {
      "text/plain": "2452    0.139336\n2453    0.141568\n2454    0.140959\n2455    0.143371\n2456    0.145036\n2457    0.146351\n2458    0.146712\n2459    0.141543\n2460    0.141185\n2461    0.147144\nName: Target, dtype: float64"
     },
     "execution_count": 14,
     "metadata": {},
     "output_type": "execute_result"
    }
   ],
   "source": [
    "target = data['Target'].dropna()\n",
    "target.tail(10)"
   ],
   "metadata": {
    "collapsed": false,
    "pycharm": {
     "name": "#%%\n"
    }
   }
  },
  {
   "cell_type": "code",
   "execution_count": null,
   "outputs": [],
   "source": [],
   "metadata": {
    "collapsed": false,
    "pycharm": {
     "name": "#%%\n"
    }
   }
  }
 ],
 "metadata": {
  "kernelspec": {
   "display_name": "Python 3",
   "language": "python",
   "name": "python3"
  },
  "language_info": {
   "codemirror_mode": {
    "name": "ipython",
    "version": 2
   },
   "file_extension": ".py",
   "mimetype": "text/x-python",
   "name": "python",
   "nbconvert_exporter": "python",
   "pygments_lexer": "ipython2",
   "version": "2.7.6"
  }
 },
 "nbformat": 4,
 "nbformat_minor": 0
}